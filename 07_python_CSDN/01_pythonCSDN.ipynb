{
 "cells": [
  {
   "cell_type": "markdown",
   "id": "e7dcbd6c",
   "metadata": {},
   "source": [
    "# 这是2024/03/03 对CSDN中python的复习"
   ]
  },
  {
   "cell_type": "markdown",
   "id": "d7461cf3",
   "metadata": {
    "heading_collapsed": true
   },
   "source": [
    "## python code mode"
   ]
  },
  {
   "cell_type": "code",
   "execution_count": 30,
   "id": "102768df",
   "metadata": {
    "ExecuteTime": {
     "end_time": "2024-03-03T09:36:06.725416Z",
     "start_time": "2024-03-03T09:36:06.715266Z"
    },
    "hidden": true
   },
   "outputs": [
    {
     "ename": "ModuleNotFoundError",
     "evalue": "No module named 'pandas'",
     "output_type": "error",
     "traceback": [
      "\u001b[0;31m---------------------------------------------------------------------------\u001b[0m",
      "\u001b[0;31mModuleNotFoundError\u001b[0m                       Traceback (most recent call last)",
      "Cell \u001b[0;32mIn[30], line 5\u001b[0m\n\u001b[1;32m      3\u001b[0m \u001b[38;5;28;01mfrom\u001b[39;00m \u001b[38;5;21;01m__future__\u001b[39;00m \u001b[38;5;28;01mimport\u001b[39;00m division\n\u001b[1;32m      4\u001b[0m \u001b[38;5;28;01mimport\u001b[39;00m \u001b[38;5;21;01msys\u001b[39;00m\n\u001b[0;32m----> 5\u001b[0m \u001b[38;5;28;01mimport\u001b[39;00m \u001b[38;5;21;01mpandas\u001b[39;00m \u001b[38;5;28;01mas\u001b[39;00m \u001b[38;5;21;01mpd\u001b[39;00m\n\u001b[1;32m      6\u001b[0m \u001b[38;5;28;01mimport\u001b[39;00m \u001b[38;5;21;01margparse\u001b[39;00m\n\u001b[1;32m      7\u001b[0m example_text \u001b[38;5;241m=\u001b[39m \u001b[38;5;124m'''\u001b[39m\u001b[38;5;124mexample:\u001b[39m\n\u001b[1;32m      8\u001b[0m \u001b[38;5;124m    python this.py \u001b[39m\n\u001b[1;32m      9\u001b[0m \u001b[38;5;124m'''\u001b[39m\n",
      "\u001b[0;31mModuleNotFoundError\u001b[0m: No module named 'pandas'"
     ]
    }
   ],
   "source": [
    "#coding=utf-8\n",
    "from __future__ import print_function \n",
    "from __future__ import division\n",
    "import sys\n",
    "import pandas as pd\n",
    "import argparse\n",
    "example_text = '''example:\n",
    "    python this.py \n",
    "'''\n",
    "parser = argparse.ArgumentParser(description=\"The script is to .\",\n",
    "                                formatter_class= argparse.RawTextHelpFormatter,\n",
    "                                usage = '%(prog)s [-h]',                         \n",
    "                                epilog=example_text)\n",
    "\n",
    "parser.add_argument('--expression_matrix','-e',type=str,help=\"Expression_matrix\",required= True,metavar='')\n",
    "parser.add_argument('--genome_bed_file', '-g',type= str,help=\"\",required= True,metavar='')\n",
    "parser.add_argument('--prefix', '-p',type= str,help=\"\",required= True,metavar='')\n",
    "args = parser.parse_args()\n",
    "\n",
    "expr_=args.expression_matrix\n",
    "genome_bed=args.genome_bed_file\n",
    "prefix=args.prefix\n"
   ]
  },
  {
   "cell_type": "markdown",
   "id": "2d6caf8f",
   "metadata": {},
   "source": [
    "## python的习惯用法"
   ]
  },
  {
   "cell_type": "code",
   "execution_count": 2,
   "id": "c00009f2",
   "metadata": {},
   "outputs": [
    {
     "name": "stdout",
     "output_type": "stream",
     "text": [
      "/home/lzy/d/99_pipeline/Study/07_python_CSDN\r\n"
     ]
    }
   ],
   "source": [
    "!pwd"
   ]
  },
  {
   "cell_type": "markdown",
   "id": "ff0fdd72",
   "metadata": {},
   "source": [
    "### if not\n",
    "#### if x: 等价于 if x and len(x) > 0:\n",
    "#### if not x:  等价于 if x is None or len(x) == 0:\n"
   ]
  },
  {
   "cell_type": "markdown",
   "id": "a5bba891",
   "metadata": {},
   "source": [
    "### 2. enumerate 枚举\n",
    "    为x列表每个元素添加序号从第二个参数开始"
   ]
  },
  {
   "cell_type": "code",
   "execution_count": 3,
   "id": "ef71e810",
   "metadata": {},
   "outputs": [
    {
     "name": "stdout",
     "output_type": "stream",
     "text": [
      "10 1\n",
      "11 2\n",
      "12 3\n",
      "13 4\n"
     ]
    }
   ],
   "source": [
    "x = [1,2,3,4]\n",
    "for i, e in enumerate(x, 10):\n",
    "    print(i, e)"
   ]
  },
  {
   "cell_type": "markdown",
   "id": "97175f7e",
   "metadata": {},
   "source": [
    "### 一对\"\"\""
   ]
  },
  {
   "cell_type": "code",
   "execution_count": 4,
   "id": "1223d664",
   "metadata": {},
   "outputs": [
    {
     "name": "stdout",
     "output_type": "stream",
     "text": [
      "\"Oh no!\" He exclaimed.\n",
      "\"It's the blemange!\"\n"
     ]
    }
   ],
   "source": [
    "print('''\"Oh no!\" He exclaimed.\n",
    "\"It's the blemange!\"''')"
   ]
  },
  {
   "cell_type": "markdown",
   "id": "0d295d73",
   "metadata": {},
   "source": [
    "### 元素交换"
   ]
  },
  {
   "cell_type": "code",
   "execution_count": 5,
   "id": "b4e153d3",
   "metadata": {},
   "outputs": [
    {
     "name": "stdout",
     "output_type": "stream",
     "text": [
      "3 1\n"
     ]
    }
   ],
   "source": [
    "a, b =1, 3\n",
    "a, b = b, a\n",
    "print(a, b)"
   ]
  },
  {
   "cell_type": "markdown",
   "id": "db30ffc4",
   "metadata": {},
   "source": []
  },
  {
   "cell_type": "markdown",
   "id": "cfee3466",
   "metadata": {},
   "source": [
    "## 字典"
   ]
  },
  {
   "cell_type": "markdown",
   "id": "d191bdd2",
   "metadata": {},
   "source": [
    "### 字典添加元素的三种方法"
   ]
  },
  {
   "cell_type": "code",
   "execution_count": 9,
   "id": "92d6f214",
   "metadata": {
    "ExecuteTime": {
     "end_time": "2024-03-03T09:19:26.510209Z",
     "start_time": "2024-03-03T09:19:26.508065Z"
    }
   },
   "outputs": [],
   "source": [
    "data = [(\"p\", 1), (\"p\", 2), (\"p\", 3),\n",
    "        (\"h\", 1), (\"h\", 2), (\"h\", 3)]"
   ]
  },
  {
   "cell_type": "code",
   "execution_count": 18,
   "id": "14bcf965",
   "metadata": {
    "ExecuteTime": {
     "end_time": "2024-03-03T09:21:50.397666Z",
     "start_time": "2024-03-03T09:21:50.395116Z"
    }
   },
   "outputs": [
    {
     "name": "stdout",
     "output_type": "stream",
     "text": [
      "{'p': [1, 2, 3], 'h': [1, 2, 3]}\n"
     ]
    }
   ],
   "source": [
    "result = {}\n",
    "for (key, value) in data:\n",
    "    if key not in result:\n",
    "        result[key] = []\n",
    "    result[key].append(value)\n",
    "print(result)"
   ]
  },
  {
   "cell_type": "code",
   "execution_count": 19,
   "id": "bd9ef3c5",
   "metadata": {
    "ExecuteTime": {
     "end_time": "2024-03-03T09:23:01.772726Z",
     "start_time": "2024-03-03T09:23:01.770256Z"
    },
    "run_control": {
     "marked": true
    }
   },
   "outputs": [
    {
     "name": "stdout",
     "output_type": "stream",
     "text": [
      "{'p': [1, 2, 3], 'h': [1, 2, 3]}\n"
     ]
    }
   ],
   "source": [
    "result2 = {}\n",
    "for k, v in data:\n",
    "    result2.setdefault(k, []).append(v)\n",
    "print(result2)"
   ]
  },
  {
   "cell_type": "code",
   "execution_count": 43,
   "id": "c4befd84",
   "metadata": {
    "ExecuteTime": {
     "end_time": "2024-03-03T09:44:55.924502Z",
     "start_time": "2024-03-03T09:44:55.921632Z"
    }
   },
   "outputs": [
    {
     "data": {
      "text/plain": [
       "{'A': 'one'}"
      ]
     },
     "execution_count": 43,
     "metadata": {},
     "output_type": "execute_result"
    }
   ],
   "source": [
    "# 对于字典的一些命令：\n",
    "# setdefault() : 如果没有该键，则添加\n",
    "a={}\n",
    "a.setdefault(\"A\",\"one\")\n",
    "a"
   ]
  },
  {
   "cell_type": "code",
   "execution_count": 20,
   "id": "12e39d5c",
   "metadata": {
    "ExecuteTime": {
     "end_time": "2024-03-03T09:24:20.313859Z",
     "start_time": "2024-03-03T09:24:20.311664Z"
    }
   },
   "outputs": [
    {
     "name": "stdout",
     "output_type": "stream",
     "text": [
      "defaultdict(<class 'list'>, {'p': [1, 2, 3], 'h': [1, 2, 3]})\n"
     ]
    }
   ],
   "source": [
    "from collections import defaultdict\n",
    "result3 = defaultdict(list)\n",
    "for k, v in data:\n",
    "    result3[k].append(v)\n",
    "print(result3)"
   ]
  },
  {
   "cell_type": "markdown",
   "id": "91f85358",
   "metadata": {},
   "source": [
    "### 字典推导式"
   ]
  },
  {
   "cell_type": "code",
   "execution_count": 38,
   "id": "4234f69e",
   "metadata": {
    "ExecuteTime": {
     "end_time": "2024-03-03T09:40:26.037737Z",
     "start_time": "2024-03-03T09:40:26.035254Z"
    }
   },
   "outputs": [
    {
     "name": "stdout",
     "output_type": "stream",
     "text": [
      "{'0**2': 0, '1**2': 1, '2**2': 4, '3**2': 9, '4**2': 16}\n"
     ]
    }
   ],
   "source": [
    "a_dict = {\"%d**2\" % item: item**2 for item in range(5)}\n",
    "print(a_dict)"
   ]
  },
  {
   "cell_type": "code",
   "execution_count": 36,
   "id": "c7e2f2f5",
   "metadata": {
    "ExecuteTime": {
     "end_time": "2024-03-03T09:40:01.356156Z",
     "start_time": "2024-03-03T09:40:01.353482Z"
    }
   },
   "outputs": [
    {
     "data": {
      "text/plain": [
       "4"
      ]
     },
     "execution_count": 36,
     "metadata": {},
     "output_type": "execute_result"
    }
   ],
   "source": [
    "2**2"
   ]
  },
  {
   "cell_type": "markdown",
   "id": "025ed29e",
   "metadata": {},
   "source": [
    "    修改，删除元素\n",
    "    dict[key] = value\n",
    "    del dict[key]\n",
    "    \n",
    "    clear(dict)\n",
    "    copy(dict)\n",
    "    len(dict)\n",
    "    max(dict):获取字典中最大的键\n",
    "    min(dict)\n"
   ]
  },
  {
   "cell_type": "markdown",
   "id": "a49aa68b",
   "metadata": {},
   "source": [
    "## print()输出\n",
    "    print(*list, sep = '', end='', file = '')"
   ]
  },
  {
   "cell_type": "code",
   "execution_count": 22,
   "id": "8cd4f41b",
   "metadata": {
    "ExecuteTime": {
     "end_time": "2024-03-03T09:29:17.843573Z",
     "start_time": "2024-03-03T09:29:17.840537Z"
    }
   },
   "outputs": [
    {
     "name": "stdout",
     "output_type": "stream",
     "text": [
      "the length of hello world is 11\n",
      "the length of hello world is 11\n"
     ]
    }
   ],
   "source": [
    "s = 'hello world'\n",
    "print('the length of %s is %d' % (s, len(s)))\n",
    "print(f'the length of {s} is {len(s)}')"
   ]
  },
  {
   "cell_type": "markdown",
   "id": "b8bce1ff",
   "metadata": {},
   "source": [
    "    浮点数据的精确度"
   ]
  },
  {
   "cell_type": "code",
   "execution_count": 28,
   "id": "68643739",
   "metadata": {
    "ExecuteTime": {
     "end_time": "2024-03-03T09:32:07.615163Z",
     "start_time": "2024-03-03T09:32:07.612890Z"
    }
   },
   "outputs": [
    {
     "name": "stdout",
     "output_type": "stream",
     "text": [
      "+3.141593\n",
      "000003.142\n",
      "3.142\n"
     ]
    }
   ],
   "source": [
    "PI = 3.1415926\n",
    "print('%+f' % PI)\n",
    "print('%010.3f' % PI)\n",
    "print('%.3f' % PI)"
   ]
  },
  {
   "cell_type": "markdown",
   "id": "73610c2b",
   "metadata": {},
   "source": [
    "    format 用法"
   ]
  },
  {
   "cell_type": "code",
   "execution_count": 29,
   "id": "43c54b4c",
   "metadata": {
    "ExecuteTime": {
     "end_time": "2024-03-03T09:33:11.438210Z",
     "start_time": "2024-03-03T09:33:11.435817Z"
    }
   },
   "outputs": [
    {
     "name": "stdout",
     "output_type": "stream",
     "text": [
      "hello, world\n"
     ]
    }
   ],
   "source": [
    "print('{0}, {1}'.format('hello', 'world'))"
   ]
  },
  {
   "cell_type": "markdown",
   "id": "9be3ffae",
   "metadata": {},
   "source": [
    "## python function"
   ]
  },
  {
   "cell_type": "code",
   "execution_count": 39,
   "id": "67fe4ab5",
   "metadata": {
    "ExecuteTime": {
     "end_time": "2024-03-03T09:42:19.321508Z",
     "start_time": "2024-03-03T09:42:19.316512Z"
    }
   },
   "outputs": [
    {
     "ename": "IndentationError",
     "evalue": "unexpected indent (1440019658.py, line 4)",
     "output_type": "error",
     "traceback": [
      "\u001b[0;36m  Cell \u001b[0;32mIn[39], line 4\u001b[0;36m\u001b[0m\n\u001b[0;31m    from fn import _\u001b[0m\n\u001b[0m    ^\u001b[0m\n\u001b[0;31mIndentationError\u001b[0m\u001b[0;31m:\u001b[0m unexpected indent\n"
     ]
    }
   ],
   "source": [
    "### \n",
    "    # _*_ coding: utf-8 _*_\n",
    "\n",
    "    from fn import _\n",
    "    from operator import add\n",
    "    from functools import partial, reduce\n",
    "\n",
    "    # 列表解析\n",
    "    a_list = [item**2 for item in range(5)]\n",
    "    print(a_list)\n",
    "\n",
    "    # 字典解析\n",
    "    a_dict = {\"%d^2\" % item: item**2 for item in range(5)}\n",
    "    print(a_dict)\n",
    "\n",
    "    # 生成器\n",
    "    a_generator = (item**2 for item in range(5))\n",
    "    print(a_generator)\n",
    "    print(next(a_generator))\n",
    "    print(next(a_generator))\n",
    "\n",
    "    # iter函数和next函数\n",
    "    a_list_generator = iter(a_list)\n",
    "    print(next(a_list_generator))\n",
    "    print(next(a_list_generator))\n",
    "    print(type(a_list), type(a_list_generator))\n",
    "\n",
    "    # lambda表达式\n",
    "    a_func = lambda x, y: x**y\n",
    "    print(a_func(2, 3))\n",
    "\n",
    "    # map函数\n",
    "    print(map(abs, range(-4, 5)))\n",
    "    print(list(map(abs, range(-4, 5))))\n",
    "    print(list(map(lambda x: x**2, range(5))))\n",
    "    print(list(map(lambda x, y: x**y, range(1, 5), range(1, 5))))\n",
    "\n",
    "    # reduce函数\n",
    "    #用传给 reduce 中的函数 function（有两个参数）先对集合中的第 1、2 个元素进行操作，得到的结果再与第三个数据用 function 函数运算，最后得到一个结果。\n",
    "    print(reduce(lambda x, y: x+y, range(10)))\n",
    "    print(reduce(lambda x, y: x+y, range(10), 100))\n",
    "    print(reduce(lambda x, y: x+y, [[1, 2], [3, 4]], [0]))\n",
    "\n",
    "    # filter函数\n",
    "    print(filter(None, range(-4, 5)))\n",
    "    print(list(filter(None, range(-4, 5))))\n",
    "    print(list(filter(lambda x: x > 0, range(-4, 5))))\n",
    "\n",
    "    # all、any函数\n",
    "    print(all([0, 1, 2]))\n",
    "    print(any([0, 1, 2]))\n",
    "\n",
    "    # enumerate函数\n",
    "    for index, item in enumerate(range(5)):\n",
    "        print(\"%d: %d\" % (index, item))\n",
    "\n",
    "    # zip函数\n",
    "    for a, b in zip([1, 2, 3], [\"a\", \"b\", \"c\"]):\n",
    "        print(a, b)\n",
    "    a_dict = dict(zip([1, 2, 3], [\"a\", \"b\", \"c\"]))\n",
    "    print(a_dict)\n",
    "\n",
    "    # partial函数\n",
    "    print(int(\"10010\", base=2))\n",
    "    int_base_2 = partial(int, base=2)\n",
    "    print(int_base_2(\"10010\"))\n",
    "\n",
    "    # operator.add函数\n",
    "    print(reduce(lambda x, y: x+y, range(10)))\n",
    "    print(reduce(add, range(10)))\n",
    "\n",
    "    # fn的使用\n",
    "    add_func_1 = (_ + 2)\n",
    "    print(add_func_1(1))\n",
    "    add_func_2 = (_ + _ * _)\n",
    "    print(add_func_2(1, 2, 3))\n",
    "\n"
   ]
  },
  {
   "cell_type": "markdown",
   "id": "70eb6c40",
   "metadata": {
    "heading_collapsed": true
   },
   "source": [
    "### join()和split()的用法的不同"
   ]
  },
  {
   "cell_type": "code",
   "execution_count": 45,
   "id": "e18904ba",
   "metadata": {
    "ExecuteTime": {
     "end_time": "2024-03-03T09:46:23.990798Z",
     "start_time": "2024-03-03T09:46:23.988147Z"
    },
    "hidden": true
   },
   "outputs": [
    {
     "data": {
      "text/plain": [
       "'i,love,python'"
      ]
     },
     "execution_count": 45,
     "metadata": {},
     "output_type": "execute_result"
    }
   ],
   "source": [
    "','.join(['i', 'love', 'python'])"
   ]
  },
  {
   "cell_type": "code",
   "execution_count": 46,
   "id": "647e8a30",
   "metadata": {
    "ExecuteTime": {
     "end_time": "2024-03-03T09:46:34.052078Z",
     "start_time": "2024-03-03T09:46:34.049402Z"
    },
    "hidden": true
   },
   "outputs": [
    {
     "data": {
      "text/plain": [
       "['i,love,python']"
      ]
     },
     "execution_count": 46,
     "metadata": {},
     "output_type": "execute_result"
    }
   ],
   "source": [
    "'i,love,python'.split()"
   ]
  },
  {
   "cell_type": "markdown",
   "id": "4d356f2d",
   "metadata": {
    "heading_collapsed": true
   },
   "source": [
    "###  文本对齐"
   ]
  },
  {
   "cell_type": "code",
   "execution_count": 47,
   "id": "7386f258",
   "metadata": {
    "ExecuteTime": {
     "end_time": "2024-03-03T09:47:09.009710Z",
     "start_time": "2024-03-03T09:47:09.006856Z"
    },
    "hidden": true
   },
   "outputs": [
    {
     "data": {
      "text/plain": [
       "'***************hello'"
      ]
     },
     "execution_count": 47,
     "metadata": {},
     "output_type": "execute_result"
    }
   ],
   "source": [
    "'hello'.rjust(20,'*') "
   ]
  },
  {
   "cell_type": "code",
   "execution_count": 48,
   "id": "9a86ea8a",
   "metadata": {
    "ExecuteTime": {
     "end_time": "2024-03-03T09:47:28.560592Z",
     "start_time": "2024-03-03T09:47:28.557850Z"
    },
    "hidden": true
   },
   "outputs": [
    {
     "data": {
      "text/plain": [
       "'hello***************'"
      ]
     },
     "execution_count": 48,
     "metadata": {},
     "output_type": "execute_result"
    }
   ],
   "source": [
    "'hello'.ljust(20, '*')"
   ]
  },
  {
   "cell_type": "markdown",
   "id": "7c09429a",
   "metadata": {
    "heading_collapsed": true
   },
   "source": [
    "### range 函数"
   ]
  },
  {
   "cell_type": "code",
   "execution_count": 51,
   "id": "97aa1fc2",
   "metadata": {
    "ExecuteTime": {
     "end_time": "2024-03-03T09:48:31.135380Z",
     "start_time": "2024-03-03T09:48:31.132361Z"
    },
    "hidden": true
   },
   "outputs": [
    {
     "data": {
      "text/plain": [
       "[0, 1, 2, 3, 4, 5, 6, 7, 8, 9]"
      ]
     },
     "execution_count": 51,
     "metadata": {},
     "output_type": "execute_result"
    }
   ],
   "source": [
    "list = [ i for  i in range(10)]\n",
    "list"
   ]
  },
  {
   "cell_type": "markdown",
   "id": "3f01412e",
   "metadata": {},
   "source": [
    "### lambda(),map(),filter(),reduce()"
   ]
  },
  {
   "cell_type": "markdown",
   "id": "4b7a432e",
   "metadata": {},
   "source": [
    "#### reduce() 函数会对参数序列中元素进行累积。\n",
    "    函数将一个数据集合（链表，元组等）中的所有数据进行下列操作：用传给 reduce 中的函数 function（有两个参数）先对集合中的第 1、2 个元素进行操作，得到的结果再与第三个数据用 function 函数运算，最后得到一个结果。"
   ]
  },
  {
   "cell_type": "code",
   "execution_count": 52,
   "id": "d99bca4f",
   "metadata": {
    "ExecuteTime": {
     "end_time": "2024-03-03T09:50:01.447207Z",
     "start_time": "2024-03-03T09:50:01.444604Z"
    }
   },
   "outputs": [
    {
     "name": "stdout",
     "output_type": "stream",
     "text": [
      "[1, 2, 3, 4, 5, 6, 7]\n",
      "28\n"
     ]
    }
   ],
   "source": [
    "from functools import reduce\n",
    "alist = [i for i in range(1, 8)]\n",
    "print(alist)\n",
    "print(reduce(lambda x,y : x+y, alist))"
   ]
  },
  {
   "cell_type": "code",
   "execution_count": 54,
   "id": "b8a9328c",
   "metadata": {
    "ExecuteTime": {
     "end_time": "2024-03-03T09:53:38.371847Z",
     "start_time": "2024-03-03T09:53:38.369251Z"
    }
   },
   "outputs": [
    {
     "name": "stdout",
     "output_type": "stream",
     "text": [
      "sum1 = 28, sum2 = 28\n"
     ]
    }
   ],
   "source": [
    "def add(x, y):\n",
    "    return x+y\n",
    "sum1 = reduce(add, alist)\n",
    "sum2 = reduce(lambda x,y : x+y, alist)\n",
    "print(f'sum1 = {sum1}, sum2 = {sum2}')"
   ]
  },
  {
   "cell_type": "markdown",
   "id": "72a9c48b",
   "metadata": {},
   "source": [
    "#### 找最大值"
   ]
  },
  {
   "cell_type": "code",
   "execution_count": 55,
   "id": "e3ef00bf",
   "metadata": {
    "ExecuteTime": {
     "end_time": "2024-03-03T09:56:08.074624Z",
     "start_time": "2024-03-03T09:56:08.072207Z"
    }
   },
   "outputs": [
    {
     "name": "stdout",
     "output_type": "stream",
     "text": [
      "[1, 2, 3, 4, 5, 6, 7]\n",
      "7\n"
     ]
    }
   ],
   "source": [
    "from functools import reduce\n",
    "print(alist)\n",
    "print(reduce(lambda x,y : y if x<y else x, alist))"
   ]
  },
  {
   "cell_type": "markdown",
   "id": "f8f89615",
   "metadata": {},
   "source": [
    "#### 找奇数"
   ]
  },
  {
   "cell_type": "code",
   "execution_count": 56,
   "id": "fa242190",
   "metadata": {
    "ExecuteTime": {
     "end_time": "2024-03-03T09:57:04.894406Z",
     "start_time": "2024-03-03T09:57:04.892023Z"
    }
   },
   "outputs": [
    {
     "name": "stdout",
     "output_type": "stream",
     "text": [
      "[1, 2, 3, 4, 5, 6, 7]\n",
      "[1, 3, 5, 7]\n"
     ]
    }
   ],
   "source": [
    "print(alist)\n",
    "print([x for x in alist if x %2])"
   ]
  },
  {
   "cell_type": "markdown",
   "id": "037433ae",
   "metadata": {},
   "source": [
    "### exec(), eval()\n",
    "    eval与exec的区别：eval 有返回值，而 exec没有返回值\n",
    "    \n",
    "    Python中的exec函数用于动态执行Python代码。它接受一个包含Python代码的字符串作为参数，并将其作为Python程序执行。\n",
    "    \n",
    "    eval() 函数用来执行一个字符串表达式，并返回表达式的值。\n",
    "    字符串表达式可以包含变量、函数调用、运算符和其他 Python 语法元素。"
   ]
  },
  {
   "cell_type": "code",
   "execution_count": 59,
   "id": "ed87315d",
   "metadata": {
    "ExecuteTime": {
     "end_time": "2024-03-07T15:05:38.781544Z",
     "start_time": "2024-03-07T15:05:38.779011Z"
    }
   },
   "outputs": [
    {
     "name": "stdout",
     "output_type": "stream",
     "text": [
      "Hello, World!\n",
      "None\n",
      "Hello, World!\n"
     ]
    }
   ],
   "source": [
    "code = \"print('Hello, World!')\"\n",
    "a=exec(code)\n",
    "print(a)\n",
    "exec(code)"
   ]
  },
  {
   "cell_type": "code",
   "execution_count": 62,
   "id": "d95d22d8",
   "metadata": {
    "ExecuteTime": {
     "end_time": "2024-03-07T15:06:06.712581Z",
     "start_time": "2024-03-07T15:06:06.710096Z"
    }
   },
   "outputs": [
    {
     "name": "stdout",
     "output_type": "stream",
     "text": [
      "Hello, World!\n",
      "None\n",
      "Hello, World!\n"
     ]
    }
   ],
   "source": [
    "a=eval(code)\n",
    "print(a)\n",
    "eval(code)"
   ]
  },
  {
   "cell_type": "code",
   "execution_count": 63,
   "id": "b0b9cb81",
   "metadata": {
    "ExecuteTime": {
     "end_time": "2024-03-07T15:09:11.242222Z",
     "start_time": "2024-03-07T15:09:11.239743Z"
    }
   },
   "outputs": [
    {
     "name": "stdout",
     "output_type": "stream",
     "text": [
      "4\n"
     ]
    }
   ],
   "source": [
    "code = '2 + 2'\n",
    "result = eval(code)\n",
    "print(result)"
   ]
  },
  {
   "cell_type": "code",
   "execution_count": 67,
   "id": "07563eed",
   "metadata": {
    "ExecuteTime": {
     "end_time": "2024-03-07T15:09:51.432627Z",
     "start_time": "2024-03-07T15:09:51.429796Z"
    }
   },
   "outputs": [
    {
     "ename": "SyntaxError",
     "evalue": "incomplete input (2797882886.py, line 3)",
     "output_type": "error",
     "traceback": [
      "\u001b[0;36m  Cell \u001b[0;32mIn[67], line 3\u001b[0;36m\u001b[0m\n\u001b[0;31m    print(result\u001b[0m\n\u001b[0m                ^\u001b[0m\n\u001b[0;31mSyntaxError\u001b[0m\u001b[0;31m:\u001b[0m incomplete input\n"
     ]
    }
   ],
   "source": [
    "code = '2 + 2'\n",
    "result = exec(code)\n",
    "print(result"
   ]
  },
  {
   "cell_type": "markdown",
   "id": "cc0bf7c6",
   "metadata": {},
   "source": [
    "### 正则表达式：\n",
    "    re.compile: 转换正则表达式为模式对象\n",
    "    re.match: 在待匹配字符串的  起始  匹配模式对象\n",
    "    re.search: 在待匹配字符串  内部  搜索第一个匹配对象\n",
    "    re.findall: 找到全部匹配的\n",
    "    模式：\n",
    "    pattern = re.compile('expression',re.??)\n",
    "    target = pattern.findall(string)\n",
    "    用正则切割字符\n",
    "    import re\n",
    "    pattern = re.compile(\"[,\\s]+\")\n",
    "    seq = \"A B C D , E, F\"\n",
    "    pattern.split(seq)"
   ]
  },
  {
   "cell_type": "code",
   "execution_count": null,
   "id": "1a53efb1",
   "metadata": {},
   "outputs": [],
   "source": []
  },
  {
   "cell_type": "code",
   "execution_count": null,
   "id": "70b31b50",
   "metadata": {},
   "outputs": [],
   "source": []
  },
  {
   "cell_type": "code",
   "execution_count": null,
   "id": "06588d33",
   "metadata": {},
   "outputs": [],
   "source": []
  },
  {
   "cell_type": "code",
   "execution_count": null,
   "id": "68dc252e",
   "metadata": {},
   "outputs": [],
   "source": []
  },
  {
   "cell_type": "code",
   "execution_count": null,
   "id": "a311b82d",
   "metadata": {},
   "outputs": [],
   "source": []
  },
  {
   "cell_type": "code",
   "execution_count": null,
   "id": "273179f8",
   "metadata": {},
   "outputs": [],
   "source": []
  }
 ],
 "metadata": {
  "hide_input": false,
  "kernelspec": {
   "display_name": "Python 3 (ipykernel)",
   "language": "python",
   "name": "python3"
  },
  "language_info": {
   "codemirror_mode": {
    "name": "ipython",
    "version": 3
   },
   "file_extension": ".py",
   "mimetype": "text/x-python",
   "name": "python",
   "nbconvert_exporter": "python",
   "pygments_lexer": "ipython3",
   "version": "3.11.5"
  },
  "nbTranslate": {
   "displayLangs": [
    "*"
   ],
   "hotkey": "alt-t",
   "langInMainMenu": true,
   "sourceLang": "en",
   "targetLang": "fr",
   "useGoogleTranslate": true
  },
  "toc": {
   "base_numbering": 1,
   "nav_menu": {},
   "number_sections": true,
   "sideBar": true,
   "skip_h1_title": false,
   "title_cell": "Table of Contents",
   "title_sidebar": "Contents",
   "toc_cell": false,
   "toc_position": {},
   "toc_section_display": true,
   "toc_window_display": false
  },
  "varInspector": {
   "cols": {
    "lenName": 16,
    "lenType": 16,
    "lenVar": 40
   },
   "kernels_config": {
    "python": {
     "delete_cmd_postfix": "",
     "delete_cmd_prefix": "del ",
     "library": "var_list.py",
     "varRefreshCmd": "print(var_dic_list())"
    },
    "r": {
     "delete_cmd_postfix": ") ",
     "delete_cmd_prefix": "rm(",
     "library": "var_list.r",
     "varRefreshCmd": "cat(var_dic_list()) "
    }
   },
   "types_to_exclude": [
    "module",
    "function",
    "builtin_function_or_method",
    "instance",
    "_Feature"
   ],
   "window_display": false
  }
 },
 "nbformat": 4,
 "nbformat_minor": 5
}
