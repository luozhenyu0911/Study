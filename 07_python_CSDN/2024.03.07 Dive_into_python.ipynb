{
 "cells": [
  {
   "cell_type": "markdown",
   "id": "ad923d09",
   "metadata": {},
   "source": [
    "### 位置参数"
   ]
  },
  {
   "cell_type": "code",
   "execution_count": 1,
   "id": "aab32873",
   "metadata": {
    "ExecuteTime": {
     "end_time": "2024-03-09T00:52:32.221531Z",
     "start_time": "2024-03-09T00:52:32.218569Z"
    }
   },
   "outputs": [
    {
     "ename": "SyntaxError",
     "evalue": "incomplete input (2426651103.py, line 8)",
     "output_type": "error",
     "traceback": [
      "\u001b[0;36m  Cell \u001b[0;32mIn[1], line 8\u001b[0;36m\u001b[0m\n\u001b[0;31m    # # print(approximate_size(size=1000000000000,False))\u001b[0m\n\u001b[0m                                                         ^\u001b[0m\n\u001b[0;31mSyntaxError\u001b[0m\u001b[0;31m:\u001b[0m incomplete input\n"
     ]
    }
   ],
   "source": [
    "def approximate_size(size,\n",
    "    a_kilobyte_is_1024_bytes=True): # 1\n",
    "    \n",
    "# print(approximate_size(1000000000000, False))\n",
    "#     print(approximate_size(1000000000000))\n",
    "# 错误操作\n",
    "# print(approximate_size(size=1000000000000,False))\n",
    "# # print(approximate_size(size=1000000000000,False))"
   ]
  },
  {
   "cell_type": "code",
   "execution_count": 2,
   "id": "1bbec5e5",
   "metadata": {
    "ExecuteTime": {
     "end_time": "2024-03-09T00:52:50.298697Z",
     "start_time": "2024-03-09T00:52:50.296452Z"
    }
   },
   "outputs": [
    {
     "name": "stdout",
     "output_type": "stream",
     "text": [
      "9.3 kb\n",
      "9.3 Kb\n",
      "9.3 kb\n"
     ]
    }
   ],
   "source": [
    "print('{0:.1f} {1}'.format(9.333, \"kb\"))\n",
    "print('%.1f Kb' % 9.333,)\n",
    "print(f'{9.333:.1f} kb')\n"
   ]
  },
  {
   "cell_type": "code",
   "execution_count": 3,
   "id": "f7f89c3f",
   "metadata": {
    "ExecuteTime": {
     "end_time": "2024-03-09T00:54:02.966215Z",
     "start_time": "2024-03-09T00:54:02.962445Z"
    }
   },
   "outputs": [
    {
     "data": {
      "text/plain": [
       "Fraction(2, 3)"
      ]
     },
     "execution_count": 3,
     "metadata": {},
     "output_type": "execute_result"
    }
   ],
   "source": [
    "# 分数\n",
    "import fractions\n",
    "x = fractions.Fraction(1, 3)  #(分子， 分母)\n",
    "x*2\n"
   ]
  },
  {
   "cell_type": "code",
   "execution_count": 5,
   "id": "93b45221",
   "metadata": {
    "ExecuteTime": {
     "end_time": "2024-03-09T00:58:41.760706Z",
     "start_time": "2024-03-09T00:58:41.755806Z"
    }
   },
   "outputs": [
    {
     "data": {
      "text/plain": [
       "[]"
      ]
     },
     "execution_count": 5,
     "metadata": {},
     "output_type": "execute_result"
    }
   ],
   "source": [
    "import glob\n",
    "glob.glob('./h*py')\n",
    "#glob 模式中你可以使用多个通配符\n"
   ]
  },
  {
   "cell_type": "markdown",
   "id": "7024fb58",
   "metadata": {},
   "source": [
    "## 正则表达式\n",
    "    # 回顾\n",
    "    # 替换字符串的方法是：index()、 find()、split()、 count()、replace()等。\n",
    "    # 用index()方法查找单个子字符串，而且查找总是区分大小写的。\n",
    "    # 为了使用不区分大小写的查找，可以使用 s.lower()或者s.upper()，\n",
    "    # 调用 split() 和 join() 来切片、合并你的字符串，\n"
   ]
  },
  {
   "cell_type": "code",
   "execution_count": 6,
   "id": "42e3b818",
   "metadata": {
    "ExecuteTime": {
     "end_time": "2024-03-09T01:01:13.301981Z",
     "start_time": "2024-03-09T01:01:13.299175Z"
    }
   },
   "outputs": [
    {
     "data": {
      "text/plain": [
       "'100 NORTH MAIN RD'"
      ]
     },
     "execution_count": 6,
     "metadata": {},
     "output_type": "execute_result"
    }
   ],
   "source": [
    "s = '100 NORTH MAIN ROAD'\n",
    "s.replace('ROAD','RD')"
   ]
  },
  {
   "cell_type": "code",
   "execution_count": 7,
   "id": "deac17a9",
   "metadata": {
    "ExecuteTime": {
     "end_time": "2024-03-09T01:01:28.185393Z",
     "start_time": "2024-03-09T01:01:28.182586Z"
    }
   },
   "outputs": [
    {
     "data": {
      "text/plain": [
       "'100 NORTH BRD. RD.'"
      ]
     },
     "execution_count": 7,
     "metadata": {},
     "output_type": "execute_result"
    }
   ],
   "source": [
    "s = '100 NORTH BROAD ROAD'\n",
    "s.replace('ROAD','RD.')\n"
   ]
  },
  {
   "cell_type": "code",
   "execution_count": 9,
   "id": "9f1bd52c",
   "metadata": {
    "ExecuteTime": {
     "end_time": "2024-03-09T01:02:30.239481Z",
     "start_time": "2024-03-09T01:02:30.236683Z"
    }
   },
   "outputs": [
    {
     "data": {
      "text/plain": [
       "'100 BROAD'"
      ]
     },
     "execution_count": 9,
     "metadata": {},
     "output_type": "execute_result"
    }
   ],
   "source": [
    "import re\n",
    "s = '100 BROAD'\n",
    "re.sub(r'\\bROAD$', 'RD.', s) "
   ]
  },
  {
   "cell_type": "code",
   "execution_count": null,
   "id": "cc8ae30e",
   "metadata": {},
   "outputs": [],
   "source": []
  },
  {
   "cell_type": "code",
   "execution_count": null,
   "id": "2a6c694c",
   "metadata": {},
   "outputs": [],
   "source": []
  },
  {
   "cell_type": "code",
   "execution_count": null,
   "id": "e8b5a54c",
   "metadata": {},
   "outputs": [],
   "source": []
  },
  {
   "cell_type": "code",
   "execution_count": null,
   "id": "26093977",
   "metadata": {},
   "outputs": [],
   "source": []
  },
  {
   "cell_type": "code",
   "execution_count": null,
   "id": "ec63e567",
   "metadata": {},
   "outputs": [],
   "source": []
  },
  {
   "cell_type": "code",
   "execution_count": null,
   "id": "b0e5bb89",
   "metadata": {},
   "outputs": [],
   "source": []
  },
  {
   "cell_type": "code",
   "execution_count": null,
   "id": "21368c59",
   "metadata": {},
   "outputs": [],
   "source": []
  },
  {
   "cell_type": "code",
   "execution_count": null,
   "id": "72a1327b",
   "metadata": {},
   "outputs": [],
   "source": []
  },
  {
   "cell_type": "code",
   "execution_count": null,
   "id": "46d4b80a",
   "metadata": {},
   "outputs": [],
   "source": []
  },
  {
   "cell_type": "code",
   "execution_count": null,
   "id": "b46abec8",
   "metadata": {},
   "outputs": [],
   "source": []
  },
  {
   "cell_type": "code",
   "execution_count": null,
   "id": "18921cf3",
   "metadata": {},
   "outputs": [],
   "source": []
  },
  {
   "cell_type": "code",
   "execution_count": null,
   "id": "3c685fce",
   "metadata": {},
   "outputs": [],
   "source": []
  },
  {
   "cell_type": "code",
   "execution_count": null,
   "id": "a9752d53",
   "metadata": {},
   "outputs": [],
   "source": []
  },
  {
   "cell_type": "code",
   "execution_count": null,
   "id": "e694ed65",
   "metadata": {},
   "outputs": [],
   "source": []
  },
  {
   "cell_type": "code",
   "execution_count": null,
   "id": "012fbc3d",
   "metadata": {},
   "outputs": [],
   "source": []
  },
  {
   "cell_type": "code",
   "execution_count": null,
   "id": "aafb5836",
   "metadata": {},
   "outputs": [],
   "source": []
  },
  {
   "cell_type": "code",
   "execution_count": null,
   "id": "54192110",
   "metadata": {},
   "outputs": [],
   "source": []
  },
  {
   "cell_type": "code",
   "execution_count": null,
   "id": "9a4b5773",
   "metadata": {},
   "outputs": [],
   "source": []
  },
  {
   "cell_type": "code",
   "execution_count": null,
   "id": "bf628773",
   "metadata": {},
   "outputs": [],
   "source": []
  },
  {
   "cell_type": "code",
   "execution_count": null,
   "id": "ab2b2195",
   "metadata": {},
   "outputs": [],
   "source": []
  },
  {
   "cell_type": "code",
   "execution_count": null,
   "id": "7a57b64b",
   "metadata": {},
   "outputs": [],
   "source": []
  },
  {
   "cell_type": "code",
   "execution_count": null,
   "id": "b4240d2a",
   "metadata": {},
   "outputs": [],
   "source": []
  }
 ],
 "metadata": {
  "hide_input": false,
  "kernelspec": {
   "display_name": "Python 3 (ipykernel)",
   "language": "python",
   "name": "python3"
  },
  "language_info": {
   "codemirror_mode": {
    "name": "ipython",
    "version": 3
   },
   "file_extension": ".py",
   "mimetype": "text/x-python",
   "name": "python",
   "nbconvert_exporter": "python",
   "pygments_lexer": "ipython3",
   "version": "3.11.5"
  },
  "nbTranslate": {
   "displayLangs": [
    "*"
   ],
   "hotkey": "alt-t",
   "langInMainMenu": true,
   "sourceLang": "en",
   "targetLang": "fr",
   "useGoogleTranslate": true
  },
  "toc": {
   "base_numbering": 1,
   "nav_menu": {},
   "number_sections": true,
   "sideBar": true,
   "skip_h1_title": false,
   "title_cell": "Table of Contents",
   "title_sidebar": "Contents",
   "toc_cell": false,
   "toc_position": {},
   "toc_section_display": true,
   "toc_window_display": false
  },
  "varInspector": {
   "cols": {
    "lenName": 16,
    "lenType": 16,
    "lenVar": 40
   },
   "kernels_config": {
    "python": {
     "delete_cmd_postfix": "",
     "delete_cmd_prefix": "del ",
     "library": "var_list.py",
     "varRefreshCmd": "print(var_dic_list())"
    },
    "r": {
     "delete_cmd_postfix": ") ",
     "delete_cmd_prefix": "rm(",
     "library": "var_list.r",
     "varRefreshCmd": "cat(var_dic_list()) "
    }
   },
   "types_to_exclude": [
    "module",
    "function",
    "builtin_function_or_method",
    "instance",
    "_Feature"
   ],
   "window_display": false
  }
 },
 "nbformat": 4,
 "nbformat_minor": 5
}
