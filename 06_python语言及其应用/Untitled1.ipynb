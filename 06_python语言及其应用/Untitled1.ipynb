{
 "cells": [
  {
   "cell_type": "markdown",
   "id": "a719b0f4-c0df-4104-a2f2-2cba6284a5d0",
   "metadata": {},
   "source": [
    "#### 2.3.10 使用join()合并"
   ]
  },
  {
   "cell_type": "code",
   "execution_count": 2,
   "id": "60a564a4-0c40-474a-925f-163f4e92690b",
   "metadata": {},
   "outputs": [
    {
     "name": "stdout",
     "output_type": "stream",
     "text": [
      "Yeti,Bigfoot,Loch Ness Monster\n"
     ]
    }
   ],
   "source": [
    "crypto_list = ['Yeti', 'Bigfoot', 'Loch Ness Monster']\n",
    "print(','.join(crypto_list))"
   ]
  },
  {
   "cell_type": "markdown",
   "id": "467527ad-1581-4fad-8c1b-921f213fb960",
   "metadata": {},
   "source": [
    "#### 2.3.11 熟悉字符串"
   ]
  },
  {
   "cell_type": "code",
   "execution_count": 3,
   "id": "256afb8f-a204-422e-b82b-22a033de713a",
   "metadata": {},
   "outputs": [],
   "source": [
    "poem = '''All that doth flow we cannot liquid name\n",
    "Or else would fire and water be the same;\n",
    "But that is liquid which is moist and wet\n",
    "Fire that property can never get.\n",
    "Then 'tis not cold that doth the fire put out\n",
    "But 'tis the wet that makes it die, no doubt.'''"
   ]
  },
  {
   "cell_type": "code",
   "execution_count": 7,
   "id": "b89a5ae7-0136-4c0f-970a-fc4b532d020d",
   "metadata": {
    "scrolled": true
   },
   "outputs": [
    {
     "name": "stdout",
     "output_type": "stream",
     "text": [
      "All that doth\n",
      "250\n",
      "True\n",
      "False\n",
      "73\n",
      "214\n",
      "3\n",
      "False\n"
     ]
    }
   ],
   "source": [
    "print(poem[:13])\n",
    "print(len(poem))\n",
    "print( poem.startswith('All'))\n",
    "print( poem.endswith('That\\'s all, folks!'))\n",
    "# 第一次出现单词 the 的位置\n",
    "print(poem.find('the'))\n",
    "# 最后次出现单词 the 的位置\n",
    "print(poem.rfind('the'))\n",
    "print(poem.count('the'))\n",
    "print( poem.isalnum())"
   ]
  },
  {
   "cell_type": "markdown",
   "id": "ab15313e-b665-48f4-a1d7-90744237210d",
   "metadata": {},
   "source": [
    "#### 2.3.12 大小写与对齐方式"
   ]
  },
  {
   "cell_type": "code",
   "execution_count": 8,
   "id": "d476e77b-0a52-47cf-802e-7c6f31d13315",
   "metadata": {},
   "outputs": [],
   "source": [
    "setup = 'a duck goes into a bar...'"
   ]
  },
  {
   "cell_type": "code",
   "execution_count": 9,
   "id": "0a814666-7634-4d7a-b2bd-f711ec398efb",
   "metadata": {},
   "outputs": [
    {
     "data": {
      "text/plain": [
       "'A duck goes into a bar...'"
      ]
     },
     "execution_count": 9,
     "metadata": {},
     "output_type": "execute_result"
    }
   ],
   "source": [
    "setup.capitalize()"
   ]
  },
  {
   "cell_type": "code",
   "execution_count": 11,
   "id": "b7352fe7-e251-4166-bfb3-26a1cda0f9f8",
   "metadata": {},
   "outputs": [
    {
     "data": {
      "text/plain": [
       "'A Duck Goes Into A Bar...'"
      ]
     },
     "execution_count": 11,
     "metadata": {},
     "output_type": "execute_result"
    }
   ],
   "source": [
    "setup.title()"
   ]
  },
  {
   "cell_type": "code",
   "execution_count": 13,
   "id": "89f2d442-65af-4f46-b572-d9b37dafb984",
   "metadata": {},
   "outputs": [
    {
     "data": {
      "text/plain": [
       "'A DUCK GOES INTO A BAR...'"
      ]
     },
     "execution_count": 13,
     "metadata": {},
     "output_type": "execute_result"
    }
   ],
   "source": [
    "setup.upper()"
   ]
  },
  {
   "cell_type": "code",
   "execution_count": 14,
   "id": "c0662e92-b3b0-47da-8fa6-4576f982c226",
   "metadata": {},
   "outputs": [
    {
     "data": {
      "text/plain": [
       "'a duck goes into a bar...'"
      ]
     },
     "execution_count": 14,
     "metadata": {},
     "output_type": "execute_result"
    }
   ],
   "source": [
    "setup.lower()"
   ]
  },
  {
   "cell_type": "code",
   "execution_count": 15,
   "id": "743f50a0-2cca-46cd-a7fb-362bac28dbc6",
   "metadata": {},
   "outputs": [
    {
     "data": {
      "text/plain": [
       "'A DUCK GOES INTO A BAR...'"
      ]
     },
     "execution_count": 15,
     "metadata": {},
     "output_type": "execute_result"
    }
   ],
   "source": [
    "setup.swapcase()"
   ]
  },
  {
   "cell_type": "code",
   "execution_count": 16,
   "id": "d11140b6-e4c3-4569-b4b1-4d579d90a16a",
   "metadata": {},
   "outputs": [
    {
     "data": {
      "text/plain": [
       "'  a duck goes into a bar...   '"
      ]
     },
     "execution_count": 16,
     "metadata": {},
     "output_type": "execute_result"
    }
   ],
   "source": [
    "# 在30个字符位居中\n",
    "setup.center(30)"
   ]
  },
  {
   "cell_type": "code",
   "execution_count": 17,
   "id": "d23c54c3-0136-4216-a4ec-8f14575409b6",
   "metadata": {},
   "outputs": [
    {
     "data": {
      "text/plain": [
       "'a duck goes into a bar...     '"
      ]
     },
     "execution_count": 17,
     "metadata": {},
     "output_type": "execute_result"
    }
   ],
   "source": [
    "setup.ljust(30)"
   ]
  },
  {
   "cell_type": "code",
   "execution_count": 18,
   "id": "b6bfa29f-356d-41b2-8b21-3f6d9f7c8e1e",
   "metadata": {},
   "outputs": [
    {
     "data": {
      "text/plain": [
       "'     a duck goes into a bar...'"
      ]
     },
     "execution_count": 18,
     "metadata": {},
     "output_type": "execute_result"
    }
   ],
   "source": [
    "setup.rjust(30)"
   ]
  },
  {
   "cell_type": "markdown",
   "id": "35b1e25f-a563-46bd-9fd2-606403e18767",
   "metadata": {},
   "source": [
    "#### 2.3.13 使用replace（）替换"
   ]
  },
  {
   "cell_type": "code",
   "execution_count": 19,
   "id": "67523578-3d19-4765-8b21-bf515acdb827",
   "metadata": {},
   "outputs": [
    {
     "data": {
      "text/plain": [
       "'a marmoset goes into a bar...'"
      ]
     },
     "execution_count": 19,
     "metadata": {},
     "output_type": "execute_result"
    }
   ],
   "source": [
    "setup.replace('duck', 'marmoset')"
   ]
  },
  {
   "cell_type": "code",
   "execution_count": 20,
   "id": "7057b216-b5a3-4cac-bc47-f8a038c2fc88",
   "metadata": {},
   "outputs": [
    {
     "data": {
      "text/plain": [
       "'a famous  duck goes into a famous  ba famous r...'"
      ]
     },
     "execution_count": 20,
     "metadata": {},
     "output_type": "execute_result"
    }
   ],
   "source": [
    "# 修改最多100处\n",
    "setup.replace('a', 'a famous ',100)"
   ]
  },
  {
   "cell_type": "markdown",
   "id": "a46069f8-bce7-4495-8af9-086aedd9e4f8",
   "metadata": {},
   "source": [
    "## Python容器：列表、元组、字典与集合 "
   ]
  },
  {
   "cell_type": "markdown",
   "id": "d5282a1d-5504-4150-a5bc-1b61a1d1c096",
   "metadata": {},
   "source": [
    "### 使用list（）将其他数据类型转换为列表"
   ]
  },
  {
   "cell_type": "code",
   "execution_count": 21,
   "id": "bd45689b-18fa-480a-a30c-5d2452d1f80b",
   "metadata": {},
   "outputs": [
    {
     "data": {
      "text/plain": [
       "['c', 'a', 't']"
      ]
     },
     "execution_count": 21,
     "metadata": {},
     "output_type": "execute_result"
    }
   ],
   "source": [
    "list('cat')"
   ]
  },
  {
   "cell_type": "markdown",
   "id": "8bad33f3-90ed-45b3-b7ac-d94412acc346",
   "metadata": {},
   "source": [
    "#### 3.2.8使用extend（）或+=合并列表\n"
   ]
  },
  {
   "cell_type": "code",
   "execution_count": 36,
   "id": "a1718c52-da36-43bb-801c-62e5fd6213d9",
   "metadata": {},
   "outputs": [
    {
     "data": {
      "text/plain": [
       "['Groucho', 'Chico', 'Harpo', 'Zeppo', 'Gummo', 'Karl']"
      ]
     },
     "execution_count": 36,
     "metadata": {},
     "output_type": "execute_result"
    }
   ],
   "source": [
    "marxes = ['Groucho', 'Chico', 'Harpo', 'Zeppo']\n",
    "others = ['Gummo', 'Karl']\n",
    "marxes.extend(others)\n",
    "marxes"
   ]
  },
  {
   "cell_type": "code",
   "execution_count": 37,
   "id": "117e2d28-01c9-42fc-873b-ed529111e6ce",
   "metadata": {},
   "outputs": [
    {
     "data": {
      "text/plain": [
       "[1, 1, 2, ['Gummo', 'Karl']]"
      ]
     },
     "execution_count": 37,
     "metadata": {},
     "output_type": "execute_result"
    }
   ],
   "source": [
    "a=[1,1,2]\n",
    "a.append(others)\n",
    "a"
   ]
  },
  {
   "cell_type": "code",
   "execution_count": 38,
   "id": "4ed63c5f-63d4-44fb-bd0d-079a3e8cc4e5",
   "metadata": {},
   "outputs": [
    {
     "data": {
      "text/plain": [
       "['Groucho', 'Chico', 'Harpo', 'Zeppo', 'Gummo', 'Karl', 'Gummo', 'Karl']"
      ]
     },
     "execution_count": 38,
     "metadata": {},
     "output_type": "execute_result"
    }
   ],
   "source": [
    "marxes+=others\n",
    "marxes"
   ]
  },
  {
   "cell_type": "code",
   "execution_count": 41,
   "id": "932486f7-4b71-458c-b348-b10ee332a39f",
   "metadata": {},
   "outputs": [
    {
     "name": "stdout",
     "output_type": "stream",
     "text": [
      "['Groucho', 'Chico', 'Harpo', 'Zeppo']\n"
     ]
    },
    {
     "data": {
      "text/plain": [
       "['Groucho', 'Chico', 'Harpo', 'Gummo', 'Zeppo']"
      ]
     },
     "execution_count": 41,
     "metadata": {},
     "output_type": "execute_result"
    }
   ],
   "source": [
    "marxes = ['Groucho', 'Chico', 'Harpo', 'Zeppo']\n",
    "print(marxes)\n",
    "marxes.insert(3, 'Gummo')\n",
    "marxes"
   ]
  },
  {
   "cell_type": "code",
   "execution_count": 42,
   "id": "538cdf94-e3bf-4d72-9c9f-94ca5bc2383d",
   "metadata": {},
   "outputs": [
    {
     "data": {
      "text/plain": [
       "['Groucho', 'Chico', 'Harpo', 'Gummo', 'Zeppo', 'Karl']"
      ]
     },
     "execution_count": 42,
     "metadata": {},
     "output_type": "execute_result"
    }
   ],
   "source": [
    "marxes.insert(10, 'Karl')\n",
    "marxes"
   ]
  },
  {
   "cell_type": "code",
   "execution_count": 47,
   "id": "695f0306-ab1f-4aff-a145-9724eaec22c3",
   "metadata": {},
   "outputs": [
    {
     "data": {
      "text/plain": [
       "['Groucho', 'Chico', 'Harpo', 'Gummo', 'Zeppo']"
      ]
     },
     "execution_count": 47,
     "metadata": {},
     "output_type": "execute_result"
    }
   ],
   "source": [
    "marxes = ['Groucho', 'Chico', 'Harpo', 'Gummo', 'Zeppo', 'Karl']\n",
    "del marxes[-1]\n",
    "marxes"
   ]
  },
  {
   "cell_type": "code",
   "execution_count": 48,
   "id": "665f1652-1078-474c-91a8-084271da6b61",
   "metadata": {},
   "outputs": [
    {
     "data": {
      "text/plain": [
       "['Groucho', 'Chico', 'Harpo', 'Zeppo']"
      ]
     },
     "execution_count": 48,
     "metadata": {},
     "output_type": "execute_result"
    }
   ],
   "source": [
    "marxes.remove('Gummo')\n",
    "marxes"
   ]
  },
  {
   "cell_type": "code",
   "execution_count": 49,
   "id": "1bac7f17-0684-4de2-9c92-d055fae84b60",
   "metadata": {},
   "outputs": [
    {
     "data": {
      "text/plain": [
       "['Groucho', 'Chico', 'Harpo']"
      ]
     },
     "execution_count": 49,
     "metadata": {},
     "output_type": "execute_result"
    }
   ],
   "source": [
    "marxes.pop()\n",
    "marxes"
   ]
  },
  {
   "cell_type": "code",
   "execution_count": 50,
   "id": "67dc0e47-efe3-41a8-af25-5dfd6b93fc7a",
   "metadata": {},
   "outputs": [
    {
     "data": {
      "text/plain": [
       "1"
      ]
     },
     "execution_count": 50,
     "metadata": {},
     "output_type": "execute_result"
    }
   ],
   "source": [
    "marxes.index('Chico')"
   ]
  },
  {
   "cell_type": "code",
   "execution_count": 52,
   "id": "b75cc172-4bfc-48a1-9243-b35a51983d4a",
   "metadata": {},
   "outputs": [
    {
     "data": {
      "text/plain": [
       "1"
      ]
     },
     "execution_count": 52,
     "metadata": {},
     "output_type": "execute_result"
    }
   ],
   "source": [
    "marxes.count('Harpo')"
   ]
  },
  {
   "cell_type": "code",
   "execution_count": 53,
   "id": "1d9500a6-51e0-40e2-a0a3-c8ec0363a88d",
   "metadata": {},
   "outputs": [
    {
     "name": "stdout",
     "output_type": "stream",
     "text": [
      "['Groucho', 'Chico', 'Harpo']\n"
     ]
    },
    {
     "data": {
      "text/plain": [
       "['Chico', 'Groucho', 'Harpo']"
      ]
     },
     "execution_count": 53,
     "metadata": {},
     "output_type": "execute_result"
    }
   ],
   "source": [
    "print(marxes)\n",
    "sorted_marxes = sorted(marxes)\n",
    "sorted_marxes"
   ]
  },
  {
   "cell_type": "code",
   "execution_count": 56,
   "id": "318f8b4c-ea0a-450f-9a12-1446052e5c23",
   "metadata": {},
   "outputs": [
    {
     "data": {
      "text/plain": [
       "['Chico', 'Groucho', 'Harpo']"
      ]
     },
     "execution_count": 56,
     "metadata": {},
     "output_type": "execute_result"
    }
   ],
   "source": [
    "marxes.sort()\n",
    "marxes"
   ]
  },
  {
   "cell_type": "code",
   "execution_count": 57,
   "id": "1d2f1e4d-cba6-440f-ae66-ffeb0447c2dc",
   "metadata": {},
   "outputs": [],
   "source": [
    "numbers = [2, 1, 4.0, 3]\n",
    "numbers.sort()"
   ]
  },
  {
   "cell_type": "code",
   "execution_count": 61,
   "id": "2fba87e5-321d-420a-a801-14b17d99f4d0",
   "metadata": {},
   "outputs": [
    {
     "data": {
      "text/plain": [
       "[4.0, 3, 2, 1]"
      ]
     },
     "execution_count": 61,
     "metadata": {},
     "output_type": "execute_result"
    }
   ],
   "source": [
    "numbers.sort(reverse=True)\n",
    "numbers"
   ]
  },
  {
   "cell_type": "code",
   "execution_count": 62,
   "id": "1aa475de-3903-4af9-803a-d293ec9d543a",
   "metadata": {},
   "outputs": [
    {
     "data": {
      "text/plain": [
       "4"
      ]
     },
     "execution_count": 62,
     "metadata": {},
     "output_type": "execute_result"
    }
   ],
   "source": [
    "len(numbers)"
   ]
  },
  {
   "cell_type": "markdown",
   "id": "1087f2e9-b327-4f38-9c84-b93213929149",
   "metadata": {},
   "source": [
    "### 3.4　字典\n"
   ]
  },
  {
   "cell_type": "code",
   "execution_count": 63,
   "id": "dae5f67d-20e7-4583-a943-843928ab41cf",
   "metadata": {},
   "outputs": [
    {
     "data": {
      "text/plain": [
       "{'a': 'b', 'c': 'd', 'e': 'f'}"
      ]
     },
     "execution_count": 63,
     "metadata": {},
     "output_type": "execute_result"
    }
   ],
   "source": [
    "lol = [ ['a', 'b'], ['c', 'd'], ['e', 'f'] ]\n",
    "dict(lol)"
   ]
  },
  {
   "cell_type": "markdown",
   "id": "33e87849-0af8-45c9-8bb4-f3515369e52a",
   "metadata": {},
   "source": [
    "#### 3.4.4 使用update()合并字典"
   ]
  },
  {
   "cell_type": "code",
   "execution_count": 73,
   "id": "c5cebc4d-39dd-4345-859c-bb7d20463c13",
   "metadata": {},
   "outputs": [],
   "source": [
    " pythons = {\n",
    "'Chapman': 'Graham',\n",
    "'Cleese': 'John',\n",
    "'Gilliam': 'Terry',\n",
    "'Idle': 'Eric',\n",
    " 'Jones': 'Terry',\n",
    " 'Palin': 'Michael',\n",
    "}"
   ]
  },
  {
   "cell_type": "code",
   "execution_count": 74,
   "id": "c26c1366-f0f0-4fe1-97b5-485dba31c5c8",
   "metadata": {},
   "outputs": [
    {
     "data": {
      "text/plain": [
       "{'Chapman': 'Graham',\n",
       " 'Cleese': 'John',\n",
       " 'Gilliam': 'Terry',\n",
       " 'Idle': 'Eric',\n",
       " 'Jones': 'Terry',\n",
       " 'Palin': 'Michael'}"
      ]
     },
     "execution_count": 74,
     "metadata": {},
     "output_type": "execute_result"
    }
   ],
   "source": [
    "pythons"
   ]
  },
  {
   "cell_type": "code",
   "execution_count": 75,
   "id": "753af0ab-3c9e-45fe-b4c3-9eb8b64d33d8",
   "metadata": {},
   "outputs": [
    {
     "data": {
      "text/plain": [
       "{'Marx': 'Groucho', 'Howard': 'Moe'}"
      ]
     },
     "execution_count": 75,
     "metadata": {},
     "output_type": "execute_result"
    }
   ],
   "source": [
    "others = { 'Marx': 'Groucho', 'Howard': 'Moe' }\n",
    "others"
   ]
  },
  {
   "cell_type": "code",
   "execution_count": 76,
   "id": "340c548f-229b-4989-b42e-fed7112989e7",
   "metadata": {},
   "outputs": [
    {
     "data": {
      "text/plain": [
       "{'Chapman': 'Graham',\n",
       " 'Cleese': 'John',\n",
       " 'Gilliam': 'Terry',\n",
       " 'Idle': 'Eric',\n",
       " 'Jones': 'Terry',\n",
       " 'Palin': 'Michael',\n",
       " 'Marx': 'Groucho',\n",
       " 'Howard': 'Moe'}"
      ]
     },
     "execution_count": 76,
     "metadata": {},
     "output_type": "execute_result"
    }
   ],
   "source": [
    "pythons.update(others)\n",
    "pythons"
   ]
  },
  {
   "cell_type": "code",
   "execution_count": 77,
   "id": "77064755-43d9-4742-98ea-df7ae8698318",
   "metadata": {},
   "outputs": [
    {
     "data": {
      "text/plain": [
       "{'Chapman': 'Graham',\n",
       " 'Cleese': 'John',\n",
       " 'Gilliam': 'Terry',\n",
       " 'Idle': 'Eric',\n",
       " 'Jones': 'Terry',\n",
       " 'Palin': 'Michael',\n",
       " 'Howard': 'Moe'}"
      ]
     },
     "execution_count": 77,
     "metadata": {},
     "output_type": "execute_result"
    }
   ],
   "source": [
    "del pythons['Marx']\n",
    "pythons"
   ]
  },
  {
   "cell_type": "code",
   "execution_count": 78,
   "id": "9242a75d-f10c-4fcb-8b93-66a2bd26935a",
   "metadata": {},
   "outputs": [
    {
     "data": {
      "text/plain": [
       "{}"
      ]
     },
     "execution_count": 78,
     "metadata": {},
     "output_type": "execute_result"
    }
   ],
   "source": [
    "pythons.clear()\n",
    "pythons"
   ]
  },
  {
   "cell_type": "code",
   "execution_count": 79,
   "id": "539570af-55cd-48d9-8cfd-51541da17377",
   "metadata": {},
   "outputs": [
    {
     "data": {
      "text/plain": [
       "['Groucho', 'Moe']"
      ]
     },
     "execution_count": 79,
     "metadata": {},
     "output_type": "execute_result"
    }
   ],
   "source": [
    "list(others.values())"
   ]
  },
  {
   "cell_type": "code",
   "execution_count": 80,
   "id": "9d98bb72-cc55-40ae-b6c0-1bb3a689363e",
   "metadata": {},
   "outputs": [
    {
     "data": {
      "text/plain": [
       "['Marx', 'Howard']"
      ]
     },
     "execution_count": 80,
     "metadata": {},
     "output_type": "execute_result"
    }
   ],
   "source": [
    "list(others.keys())"
   ]
  },
  {
   "cell_type": "markdown",
   "id": "a9ade0c4-da53-4ad2-af09-7b94ff3e3318",
   "metadata": {},
   "source": [
    "#### 3.5.1　使用set()创建集合 "
   ]
  },
  {
   "cell_type": "code",
   "execution_count": 81,
   "id": "33dc13be-1a7e-4a47-8bcd-005c8571096d",
   "metadata": {},
   "outputs": [
    {
     "data": {
      "text/plain": [
       "['l', 'e', 't', 't', 'e', 'r']"
      ]
     },
     "execution_count": 81,
     "metadata": {},
     "output_type": "execute_result"
    }
   ],
   "source": [
    "strings = 'letter'\n",
    "str_list = list(strings)\n",
    "str_list"
   ]
  },
  {
   "cell_type": "code",
   "execution_count": 82,
   "id": "be64ba8a-2631-4d9e-bbf6-cedaf83fd07a",
   "metadata": {},
   "outputs": [
    {
     "data": {
      "text/plain": [
       "{'e', 'l', 'r', 't'}"
      ]
     },
     "execution_count": 82,
     "metadata": {},
     "output_type": "execute_result"
    }
   ],
   "source": [
    "set(str_list)"
   ]
  },
  {
   "cell_type": "code",
   "execution_count": 83,
   "id": "5dabfefd-a028-45b8-b586-d52b5f787cf4",
   "metadata": {},
   "outputs": [
    {
     "data": {
      "text/plain": [
       "{'e', 'l', 'r', 't'}"
      ]
     },
     "execution_count": 83,
     "metadata": {},
     "output_type": "execute_result"
    }
   ],
   "source": [
    "set('letter')"
   ]
  },
  {
   "cell_type": "markdown",
   "id": "b1e7bdff-9ad5-4137-8b1c-5ebd82c9bcea",
   "metadata": {},
   "source": [
    "#### 3.5.4　合并及运算符\n",
    "    区别in 和 & 的用法"
   ]
  },
  {
   "cell_type": "code",
   "execution_count": 84,
   "id": "422ceffd-cbd1-4b9a-b17d-b66fd202034a",
   "metadata": {},
   "outputs": [],
   "source": [
    "drinks = { \n",
    "  'martini': {'vodka', 'vermouth'}, \n",
    "  'black russian': {'vodka', 'kahlua'}, \n",
    "  'white russian': {'cream', 'kahlua', 'vodka'}, \n",
    "  'manhattan': {'rye', 'vermouth', 'bitters'}, \n",
    "  'screwdriver': {'orange juice', 'vodka'} \n",
    "  }"
   ]
  },
  {
   "cell_type": "code",
   "execution_count": 88,
   "id": "9a455e6a-7890-40c2-b8b2-7f1914a4921d",
   "metadata": {},
   "outputs": [
    {
     "name": "stdout",
     "output_type": "stream",
     "text": [
      "martini\n",
      "manhattan\n",
      "screwdriver\n"
     ]
    }
   ],
   "source": [
    "for name, contents in drinks.items():\n",
    "  if contents & {'vermouth', 'orange juice'}:\n",
    "        print(name)\n",
    "\n",
    "# & 运算符的结果是一个集合，它包含所有同时出现在你比较的两个清单中的元素。"
   ]
  },
  {
   "cell_type": "code",
   "execution_count": 89,
   "id": "4ab4c207-8bd0-4c1c-809c-3473a77a306a",
   "metadata": {},
   "outputs": [
    {
     "data": {
      "text/plain": [
       "{2}"
      ]
     },
     "execution_count": 89,
     "metadata": {},
     "output_type": "execute_result"
    }
   ],
   "source": [
    "a = {1, 2}\n",
    "b = {2, 3}\n",
    "a & b"
   ]
  },
  {
   "cell_type": "code",
   "execution_count": 90,
   "id": "6b748ce7-6942-4a9f-8170-2e0620a2b829",
   "metadata": {},
   "outputs": [
    {
     "data": {
      "text/plain": [
       "{2}"
      ]
     },
     "execution_count": 90,
     "metadata": {},
     "output_type": "execute_result"
    }
   ],
   "source": [
    "a.intersection(b)"
   ]
  },
  {
   "cell_type": "code",
   "execution_count": 91,
   "id": "33ac8159-6bc8-4dbd-801d-d7af8d8d25bd",
   "metadata": {},
   "outputs": [
    {
     "data": {
      "text/plain": [
       "{1, 2, 3}"
      ]
     },
     "execution_count": 91,
     "metadata": {},
     "output_type": "execute_result"
    }
   ],
   "source": [
    "a | b"
   ]
  },
  {
   "cell_type": "code",
   "execution_count": 92,
   "id": "90bbb1d5-0782-4e61-8cae-37cc1c214647",
   "metadata": {},
   "outputs": [
    {
     "data": {
      "text/plain": [
       "{1, 2, 3}"
      ]
     },
     "execution_count": 92,
     "metadata": {},
     "output_type": "execute_result"
    }
   ],
   "source": [
    " a.union(b)"
   ]
  },
  {
   "cell_type": "code",
   "execution_count": 93,
   "id": "3c0ead83-e1ff-4400-a8b7-3e5de9a18bf0",
   "metadata": {},
   "outputs": [
    {
     "data": {
      "text/plain": [
       "{1}"
      ]
     },
     "execution_count": 93,
     "metadata": {},
     "output_type": "execute_result"
    }
   ],
   "source": [
    "a - b"
   ]
  },
  {
   "cell_type": "code",
   "execution_count": 95,
   "id": "73fcb3da-ccec-4447-9024-644655e76e2c",
   "metadata": {},
   "outputs": [
    {
     "data": {
      "text/plain": [
       "{1}"
      ]
     },
     "execution_count": 95,
     "metadata": {},
     "output_type": "execute_result"
    }
   ],
   "source": [
    "a.difference(b)"
   ]
  },
  {
   "cell_type": "code",
   "execution_count": 96,
   "id": "541cc430-13de-4cea-83cf-348fab4b78e9",
   "metadata": {},
   "outputs": [
    {
     "data": {
      "text/plain": [
       "{1, 3}"
      ]
     },
     "execution_count": 96,
     "metadata": {},
     "output_type": "execute_result"
    }
   ],
   "source": [
    "a ^ b"
   ]
  },
  {
   "cell_type": "code",
   "execution_count": 98,
   "id": "6854a37e-e8b6-4632-b00d-8eb145edbcb2",
   "metadata": {},
   "outputs": [
    {
     "data": {
      "text/plain": [
       "{1, 3}"
      ]
     },
     "execution_count": 98,
     "metadata": {},
     "output_type": "execute_result"
    }
   ],
   "source": [
    "# 使用 ^ 或者 symmetric_difference() 可以获得两个集合的异或集\n",
    "a.symmetric_difference(b)"
   ]
  },
  {
   "cell_type": "code",
   "execution_count": 99,
   "id": "799d534d-0903-4e26-8544-413d3ebf1add",
   "metadata": {},
   "outputs": [
    {
     "data": {
      "text/plain": [
       "False"
      ]
     },
     "execution_count": 99,
     "metadata": {},
     "output_type": "execute_result"
    }
   ],
   "source": [
    " a <= b"
   ]
  },
  {
   "cell_type": "code",
   "execution_count": 100,
   "id": "4b918076-1abf-4d88-9a13-39d5f0e7dc9c",
   "metadata": {},
   "outputs": [],
   "source": [
    "c={1}"
   ]
  },
  {
   "cell_type": "code",
   "execution_count": 102,
   "id": "a370deb9-66d1-4201-879c-6d7c70b18483",
   "metadata": {},
   "outputs": [
    {
     "data": {
      "text/plain": [
       "True"
      ]
     },
     "execution_count": 102,
     "metadata": {},
     "output_type": "execute_result"
    }
   ],
   "source": [
    "c <= a"
   ]
  },
  {
   "cell_type": "code",
   "execution_count": 104,
   "id": "fa667048-4c14-4853-b8ae-2e7c384cf89d",
   "metadata": {},
   "outputs": [
    {
     "data": {
      "text/plain": [
       "True"
      ]
     },
     "execution_count": 104,
     "metadata": {},
     "output_type": "execute_result"
    }
   ],
   "source": [
    "c.issubset(a) # b 是 a 的超集"
   ]
  },
  {
   "cell_type": "code",
   "execution_count": 105,
   "id": "0ca2e80f-1b98-4e5a-8956-7b2f638646b4",
   "metadata": {},
   "outputs": [
    {
     "data": {
      "text/plain": [
       "True"
      ]
     },
     "execution_count": 105,
     "metadata": {},
     "output_type": "execute_result"
    }
   ],
   "source": [
    " a.issuperset(c)"
   ]
  },
  {
   "cell_type": "markdown",
   "id": "cc8fa29c-e76f-49f1-a45c-06b273f14d5c",
   "metadata": {},
   "source": [
    "## 4. python外壳：代码结构"
   ]
  },
  {
   "cell_type": "code",
   "execution_count": 107,
   "id": "d4639d2e-9eb1-4869-b985-482fd9f9d0a5",
   "metadata": {},
   "outputs": [
    {
     "data": {
      "text/plain": [
       "'abcdefghijklmnopqrstuvwxyz'"
      ]
     },
     "execution_count": 107,
     "metadata": {},
     "output_type": "execute_result"
    }
   ],
   "source": [
    "alphabet = 'abcdefg' + \\\n",
    "  'hijklmnop' + \\\n",
    "  'qrstuv' + \\\n",
    "  'wxyz'\n",
    "\n",
    "alphabet"
   ]
  },
  {
   "cell_type": "code",
   "execution_count": 108,
   "id": "97c366a6-6dce-4588-89dd-42efcd207029",
   "metadata": {},
   "outputs": [
    {
     "ename": "SyntaxError",
     "evalue": "invalid syntax (1697476911.py, line 1)",
     "output_type": "error",
     "traceback": [
      "\u001b[0;36m  Cell \u001b[0;32mIn[108], line 1\u001b[0;36m\u001b[0m\n\u001b[0;31m    alphabet = 'abcdefg' +\u001b[0m\n\u001b[0m                            ^\u001b[0m\n\u001b[0;31mSyntaxError\u001b[0m\u001b[0;31m:\u001b[0m invalid syntax\n"
     ]
    }
   ],
   "source": [
    "alphabet = 'abcdefg' +  \n",
    "  'hijklmnop' +  \n",
    "  'qrstuv' +  \n",
    "  'wxyz'\n",
    "\n",
    "alphabet"
   ]
  },
  {
   "cell_type": "markdown",
   "id": "a21e57ea-4e92-4635-9f39-324949089cf0",
   "metadata": {},
   "source": [
    "#### brank and continue"
   ]
  },
  {
   "cell_type": "code",
   "execution_count": 110,
   "id": "b9aa13cd-fed2-4a01-8bd3-a0502c4aca64",
   "metadata": {},
   "outputs": [
    {
     "name": "stdin",
     "output_type": "stream",
     "text": [
      "Integer, please [q to quit]:  1\n"
     ]
    },
    {
     "name": "stdout",
     "output_type": "stream",
     "text": [
      "1 squared is 1\n"
     ]
    },
    {
     "name": "stdin",
     "output_type": "stream",
     "text": [
      "Integer, please [q to quit]:  2\n",
      "Integer, please [q to quit]:  q\n"
     ]
    }
   ],
   "source": [
    "while True:\n",
    "  value = input(\"Integer, please [q to quit]: \")\n",
    "  if value == 'q': # 停止循环\n",
    "      break\n",
    "  number = int(value)\n",
    "  if number % 2 == 0: # 判断偶数\n",
    "      continue\n",
    "  print(number, \"squared is\", number*number)"
   ]
  },
  {
   "cell_type": "code",
   "execution_count": 112,
   "id": "55facfb6-4f12-43a4-8266-0af7411fbee6",
   "metadata": {},
   "outputs": [
    {
     "name": "stdout",
     "output_type": "stream",
     "text": [
      "Monday : drink coffee| - eat banana - enjoy tiramisu\n",
      "Tuesday : drink tea - eat orange - enjoy ice cream\n",
      "Wednesday : drink beer - eat peach - enjoy pie\n"
     ]
    }
   ],
   "source": [
    "days = ['Monday', 'Tuesday', 'Wednesday']\n",
    "fruits = ['banana', 'orange', 'peach']\n",
    "drinks = ['coffee|', 'tea', 'beer']\n",
    "desserts = ['tiramisu', 'ice cream', 'pie', 'pudding']\n",
    "for day, fruit, drink, dessert in zip(days, fruits, drinks, desserts):\n",
    "    print(day, \": drink\", drink, \"- eat\", fruit, \"- enjoy\", dessert)"
   ]
  },
  {
   "cell_type": "code",
   "execution_count": 114,
   "id": "6cea1060-5242-40c5-9174-bf76706516ae",
   "metadata": {},
   "outputs": [
    {
     "data": {
      "text/plain": [
       "[('Monday', 'Lundi'), ('Tuesday', 'Mardi'), ('Wednesday', 'Mercredi')]"
      ]
     },
     "execution_count": 114,
     "metadata": {},
     "output_type": "execute_result"
    }
   ],
   "source": [
    "english = 'Monday', 'Tuesday', 'Wednesday'\n",
    "french = 'Lundi', 'Mardi', 'Mercredi'\n",
    "list( zip(english, french) )"
   ]
  },
  {
   "cell_type": "code",
   "execution_count": 115,
   "id": "3f7593a2-4ece-48c8-b586-8de41180aede",
   "metadata": {},
   "outputs": [
    {
     "data": {
      "text/plain": [
       "{'Monday': 'Lundi', 'Tuesday': 'Mardi', 'Wednesday': 'Mercredi'}"
      ]
     },
     "execution_count": 115,
     "metadata": {},
     "output_type": "execute_result"
    }
   ],
   "source": [
    "dict( zip(english, french) )"
   ]
  },
  {
   "cell_type": "markdown",
   "id": "aeea4da6-ee2e-4fba-a227-3d9edd7c8395",
   "metadata": {},
   "source": [
    "#### 4.6.1　列表推导式\n",
    "    [expression for item in iterable if condition]\n",
    "\n",
    "#### 4.6.2  字典推导式\n",
    "    { key_expression : value_expression for expression in iterable }"
   ]
  },
  {
   "cell_type": "code",
   "execution_count": 116,
   "id": "c3d7bd8c-66a2-4c1e-99af-a3f88d9f0581",
   "metadata": {},
   "outputs": [
    {
     "data": {
      "text/plain": [
       "[0, 1, 2, 3, 4, 5]"
      ]
     },
     "execution_count": 116,
     "metadata": {},
     "output_type": "execute_result"
    }
   ],
   "source": [
    "number_list = [number for number in range(6)]\n",
    "number_list"
   ]
  },
  {
   "cell_type": "code",
   "execution_count": 117,
   "id": "1967688f-07c2-42ea-8333-d1450532801d",
   "metadata": {},
   "outputs": [
    {
     "data": {
      "text/plain": [
       "[-2, -1, 0, 1, 2, 3]"
      ]
     },
     "execution_count": 117,
     "metadata": {},
     "output_type": "execute_result"
    }
   ],
   "source": [
    "number_list = [number-2 for number in range(6)]\n",
    "number_list"
   ]
  },
  {
   "cell_type": "code",
   "execution_count": 119,
   "id": "5d5325ab-9d5b-4a67-81d8-48b776f90451",
   "metadata": {},
   "outputs": [
    {
     "data": {
      "text/plain": [
       "{'l': 1, 'e': 2, 't': 2, 'r': 1, 's': 1}"
      ]
     },
     "execution_count": 119,
     "metadata": {},
     "output_type": "execute_result"
    }
   ],
   "source": [
    "word = 'letters'\n",
    "letter_count = {letter : word.count(letter) for letter in word}\n",
    "letter_count"
   ]
  },
  {
   "cell_type": "code",
   "execution_count": 120,
   "id": "45a8bc0d-e744-4bc5-8940-4d3d12a60114",
   "metadata": {},
   "outputs": [
    {
     "data": {
      "text/plain": [
       "{'l': 1, 'e': 2, 't': 2, 'r': 1, 's': 1}"
      ]
     },
     "execution_count": 120,
     "metadata": {},
     "output_type": "execute_result"
    }
   ],
   "source": [
    "letter_count = {'l': 1, 'e': 2, 't': 2, 'e': 2, 't': 2, 'r': 1, 's': 1}\n",
    "letter_count"
   ]
  },
  {
   "cell_type": "code",
   "execution_count": 121,
   "id": "754985e5-ded7-4245-9944-bac3b1dddfc8",
   "metadata": {},
   "outputs": [
    {
     "data": {
      "text/plain": [
       "{1, 4}"
      ]
     },
     "execution_count": 121,
     "metadata": {},
     "output_type": "execute_result"
    }
   ],
   "source": [
    "{number for number in range(1,6) if number % 3 == 1}"
   ]
  },
  {
   "cell_type": "markdown",
   "id": "f455aab7-aaec-4e5d-913a-c455f90a0dda",
   "metadata": {},
   "source": [
    "#### 4.7.1　位置参数\n"
   ]
  },
  {
   "cell_type": "code",
   "execution_count": 123,
   "id": "aa1b7882-ee4b-4a45-8739-65cde85f0f42",
   "metadata": {},
   "outputs": [
    {
     "data": {
      "text/plain": [
       "{'wine': 'chardonnay', 'entree': 'chicken', 'dessert': 'cake'}"
      ]
     },
     "execution_count": 123,
     "metadata": {},
     "output_type": "execute_result"
    }
   ],
   "source": [
    "def menu(wine, entree, dessert):\n",
    "  return {'wine': wine, 'entree': entree, 'dessert': dessert}\n",
    "menu('chardonnay', 'chicken', 'cake')"
   ]
  },
  {
   "cell_type": "markdown",
   "id": "147ade21-29e9-4129-bf06-8e66b86f9ade",
   "metadata": {},
   "source": [
    "#### 4.7.2　关键字参数"
   ]
  },
  {
   "cell_type": "code",
   "execution_count": 124,
   "id": "66fbcf9f-8f54-4c93-816f-59d25ec46677",
   "metadata": {},
   "outputs": [
    {
     "data": {
      "text/plain": [
       "{'wine': 'bordeaux', 'entree': 'beef', 'dessert': 'bagel'}"
      ]
     },
     "execution_count": 124,
     "metadata": {},
     "output_type": "execute_result"
    }
   ],
   "source": [
    "menu(entree='beef', dessert='bagel', wine='bordeaux')"
   ]
  },
  {
   "cell_type": "code",
   "execution_count": 125,
   "id": "cd8b4935-a622-4d19-83c1-db4b624e1096",
   "metadata": {},
   "outputs": [
    {
     "data": {
      "text/plain": [
       "{'wine': 'frontenac', 'entree': 'fish', 'dessert': 'flan'}"
      ]
     },
     "execution_count": 125,
     "metadata": {},
     "output_type": "execute_result"
    }
   ],
   "source": [
    "menu('frontenac', dessert='flan', entree='fish')"
   ]
  },
  {
   "cell_type": "markdown",
   "id": "7b038a6e-d62c-4a55-9334-229406ede6b5",
   "metadata": {},
   "source": [
    "#### 4.7.3　指定默认参数值"
   ]
  },
  {
   "cell_type": "code",
   "execution_count": 127,
   "id": "89b8a83e-e866-46c2-a885-cc174eecc29a",
   "metadata": {},
   "outputs": [
    {
     "data": {
      "text/plain": [
       "{'wine': 'chardonnay', 'entree': 'chicken', 'dessert': 'pudding'}"
      ]
     },
     "execution_count": 127,
     "metadata": {},
     "output_type": "execute_result"
    }
   ],
   "source": [
    "def menu(wine, entree, dessert='pudding'):\n",
    "  return {'wine': wine, 'entree': entree, 'dessert': dessert}\n",
    "\n",
    "menu('chardonnay', 'chicken')"
   ]
  },
  {
   "cell_type": "markdown",
   "id": "1ced1b86-7f99-474b-a1d0-dcf3814798d1",
   "metadata": {},
   "source": [
    "#### 4.7.4　使用*收集位置参数\n",
    "    当参数被用在函数内部时，星号将一组可变数量的位置参数集合成参数值的元组。"
   ]
  },
  {
   "cell_type": "code",
   "execution_count": 129,
   "id": "528fa478-5a6e-4a30-a97c-5fd3e8a40053",
   "metadata": {},
   "outputs": [
    {
     "name": "stdout",
     "output_type": "stream",
     "text": [
      "Positional argument tuple: (3, 2, 1, 'wait!', 'uh...')\n"
     ]
    }
   ],
   "source": [
    "def print_args(*args):\n",
    "  print('Positional argument tuple:', args)\n",
    "print_args(3, 2, 1, 'wait!', 'uh...')"
   ]
  },
  {
   "cell_type": "markdown",
   "id": "a5fe4932-ed9c-4c5f-b146-c8180eb9bed1",
   "metadata": {},
   "source": [
    "#### 4.7.5　使用**收集关键字参数\n",
    "    使用两个星号可以将参数收集到一个字典中，参数的名字是字典的键，对应参数的值是字典的值。"
   ]
  },
  {
   "cell_type": "code",
   "execution_count": 132,
   "id": "e45162ea-2482-4005-917d-65816abca381",
   "metadata": {},
   "outputs": [
    {
     "name": "stdout",
     "output_type": "stream",
     "text": [
      "Keyword arguments: {'wine': 'merlot', 'entree': 'mutton', 'dessert': 'macaroon'}\n"
     ]
    }
   ],
   "source": [
    "def print_kwargs(**kwargs):\n",
    "  print('Keyword arguments:', kwargs)\n",
    "print_kwargs(wine='merlot', entree='mutton', dessert='macaroon')"
   ]
  },
  {
   "cell_type": "markdown",
   "id": "4b32d9fd-d13c-4155-8abf-8e75980ac4a0",
   "metadata": {},
   "source": [
    "### 4.7.9　闭包\n",
    "    内部函数可以看作一个闭包。闭包是一个可以由另一个函数动态生成的函数，并且可以改变和存储函数外创建的变量的值。\r\n"
   ]
  },
  {
   "cell_type": "code",
   "execution_count": 137,
   "id": "f24c2a75-e4f1-40a2-aeb0-d6f5ed3d5a2e",
   "metadata": {},
   "outputs": [
    {
     "data": {
      "text/plain": [
       "function"
      ]
     },
     "execution_count": 137,
     "metadata": {},
     "output_type": "execute_result"
    }
   ],
   "source": [
    "def knights2(saying):\n",
    "  def inner2():\n",
    "      return \"We are the knights who say: '%s'\" % saying\n",
    "  return inner2\n",
    "\n",
    "a = knights2('hello')\n",
    "type(a)"
   ]
  },
  {
   "cell_type": "code",
   "execution_count": 139,
   "id": "5af2b28a-b373-4655-bbba-83ed224bca77",
   "metadata": {},
   "outputs": [
    {
     "data": {
      "text/plain": [
       "\"We are the knights who say: 'hello'\""
      ]
     },
     "execution_count": 139,
     "metadata": {},
     "output_type": "execute_result"
    }
   ],
   "source": [
    "a()"
   ]
  },
  {
   "cell_type": "markdown",
   "id": "6295eed1-6ff5-40d8-8918-fa27e1ed1ce9",
   "metadata": {},
   "source": [
    "### 4.7.10　匿名函数：lambda()函数"
   ]
  },
  {
   "cell_type": "code",
   "execution_count": 141,
   "id": "b11561e0-06b2-4ebf-b1c5-67d276d70ac7",
   "metadata": {},
   "outputs": [
    {
     "name": "stdout",
     "output_type": "stream",
     "text": [
      "Thud!\n",
      "Meow!\n",
      "Thud!\n",
      "Hiss!\n"
     ]
    }
   ],
   "source": [
    "def edit_story(words, func):\n",
    "  for word in words:\n",
    "      print(func(word))\n",
    "\n",
    "def enliven(word): # 让这些单词更有情感\n",
    "  return word.capitalize() + '!'\n",
    "stairs = ['thud', 'meow', 'thud', 'hiss']\n",
    "edit_story(stairs, enliven)"
   ]
  },
  {
   "cell_type": "code",
   "execution_count": 142,
   "id": "e07ba0ba-ca73-4afe-88b1-368d2f71b39d",
   "metadata": {},
   "outputs": [
    {
     "name": "stdout",
     "output_type": "stream",
     "text": [
      "Thud!\n",
      "Meow!\n",
      "Thud!\n",
      "Hiss!\n"
     ]
    }
   ],
   "source": [
    "edit_story(stairs, lambda word: word.capitalize() + '!')"
   ]
  },
  {
   "cell_type": "markdown",
   "id": "1fd1b907-549c-46f5-ad1f-c104261ba926",
   "metadata": {},
   "source": [
    "## 4.8　生成器\n",
    "    生成器是用来创建 Python 序列的一个对象。使用它可以迭代庞大的序列，且不需要在内存中创建和存储整个序列。"
   ]
  },
  {
   "cell_type": "code",
   "execution_count": 144,
   "id": "f0dc039f-8ca7-4262-9c4c-8050cd66e21a",
   "metadata": {},
   "outputs": [
    {
     "name": "stdout",
     "output_type": "stream",
     "text": [
      "1\n",
      "2\n",
      "3\n",
      "4\n"
     ]
    }
   ],
   "source": [
    "def my_ranger(first=0, last=10, step=1):\n",
    "    number = first\n",
    "    while number < last:\n",
    "        yield number\n",
    "        number += step\n",
    "for x in my_ranger(1, 5):\n",
    "    print(x)"
   ]
  },
  {
   "cell_type": "markdown",
   "id": "eb91ba59-e391-425d-9a0e-d4c1f36fa72b",
   "metadata": {},
   "source": [
    "## 4.9　装饰器\n",
    "    有时你需要在不改变源代码的情况下修改已经存在的函数。\n",
    "    装饰器实质上是一个函数。它把一个函数作为输入并且返回另外一个函数。\n",
    "    通常使用下面这些 Python 技巧：\r",
    "    \n",
    "• *args 和 **kwargs    \r\n",
    "• 闭    \n",
    "\r\n",
    "• 作为参数的\n",
    "\n",
    "### 函数document_it()定义了一个装饰器，会实现如下功能：\n",
    "\r",
    "    \n",
    "• 打印输出函数的名字和参数的值    \r\n",
    "• 执行含有参数的\n",
    "    数\r\n",
    "• 打印输出    结果\r\n",
    "• 返回修改后的函数函数"
   ]
  },
  {
   "cell_type": "code",
   "execution_count": 3,
   "id": "1effce94-cf77-41cf-9755-ef3ca1a53f38",
   "metadata": {},
   "outputs": [],
   "source": [
    "def document_it(func):\n",
    "    def new_function(*args, **kwargs):\n",
    "        print('Running function:', func.__name__)\n",
    "        print('Positional argument:', args)\n",
    "        print('Keyword arguments:', kwargs)\n",
    "        result = func(*args, **kwargs)\n",
    "        print('Result:', result)\n",
    "        return result\n",
    "    return new_function"
   ]
  },
  {
   "cell_type": "code",
   "execution_count": 1,
   "id": "1e554c49-6a1b-4778-9067-aa04f3319d03",
   "metadata": {},
   "outputs": [],
   "source": [
    "## 如何使用装饰器，可以通过人工赋值\n",
    "def add_ints(a, b):\n",
    "    return a+b"
   ]
  },
  {
   "cell_type": "code",
   "execution_count": 2,
   "id": "a4548ad6-7d2b-45d1-9003-8b1e8733ffd6",
   "metadata": {},
   "outputs": [
    {
     "data": {
      "text/plain": [
       "8"
      ]
     },
     "execution_count": 2,
     "metadata": {},
     "output_type": "execute_result"
    }
   ],
   "source": [
    "add_ints(3, 5)"
   ]
  },
  {
   "cell_type": "code",
   "execution_count": 4,
   "id": "9793e90e-4d46-4eb7-a6ce-021d4753f6be",
   "metadata": {},
   "outputs": [],
   "source": [
    "cooler_add_ints = document_it(add_ints) # 人工对装饰器赋值"
   ]
  },
  {
   "cell_type": "code",
   "execution_count": 5,
   "id": "f56657d3-6eb9-4643-aaa3-60af53b1bf8a",
   "metadata": {},
   "outputs": [
    {
     "name": "stdout",
     "output_type": "stream",
     "text": [
      "Running function: add_ints\n",
      "Positional argument: (3, 5)\n",
      "Keyword arguments: {}\n",
      "Result: 8\n"
     ]
    },
    {
     "data": {
      "text/plain": [
       "8"
      ]
     },
     "execution_count": 5,
     "metadata": {},
     "output_type": "execute_result"
    }
   ],
   "source": [
    "cooler_add_ints(3, 5)"
   ]
  },
  {
   "cell_type": "code",
   "execution_count": 6,
   "id": "afd7a45d-1b71-4254-8222-471d70994088",
   "metadata": {},
   "outputs": [],
   "source": [
    "# 同样一个函数可以有多个装饰器。下面，我们写一个对结果求平方的装饰器square_it()：\n",
    "def square_it(func):\n",
    "    def new_function(*args, **kwargs):\n",
    "        result = func(*args, **kwargs)\n",
    "        return result*result\n",
    "    return new_function"
   ]
  },
  {
   "cell_type": "code",
   "execution_count": 12,
   "id": "42456d97-bd51-4e41-9ecf-6b541702b40f",
   "metadata": {},
   "outputs": [],
   "source": [
    "# 靠近函数定义（def上面）的装饰器最先执行，然后依次执行上面的。任何顺序都会得到相同的最终结果。\n",
    "@document_it\n",
    "@square_it\n",
    "def add_ints(a, b):\n",
    "    return a + b"
   ]
  },
  {
   "cell_type": "code",
   "execution_count": 13,
   "id": "d92c2311-8919-4193-bf91-1e566fb353fe",
   "metadata": {},
   "outputs": [
    {
     "name": "stdout",
     "output_type": "stream",
     "text": [
      "Running function: new_function\n",
      "Positional argument: (3, 5)\n",
      "Keyword arguments: {}\n",
      "Result: 64\n"
     ]
    },
    {
     "data": {
      "text/plain": [
       "64"
      ]
     },
     "execution_count": 13,
     "metadata": {},
     "output_type": "execute_result"
    }
   ],
   "source": [
    "add_ints(3, 5)"
   ]
  },
  {
   "cell_type": "code",
   "execution_count": null,
   "id": "5dd7d9f0-eb19-4e41-b65d-da470952bd4c",
   "metadata": {},
   "outputs": [],
   "source": []
  },
  {
   "cell_type": "markdown",
   "id": "0f073a30-ac11-4900-8982-5b9ee477c445",
   "metadata": {},
   "source": [
    "## 4.10 命名空间和作用域"
   ]
  },
  {
   "cell_type": "code",
   "execution_count": 14,
   "id": "8d68ccbe-46fe-47e0-89b1-144f7dffb729",
   "metadata": {},
   "outputs": [
    {
     "name": "stdout",
     "output_type": "stream",
     "text": [
      "at the top level: fruitbat\n"
     ]
    }
   ],
   "source": [
    "animal = 'fruitbat'\n",
    "def print_global():\n",
    "    print('inside print_global:', animal)\n",
    "\n",
    "print('at the top level:', animal)"
   ]
  },
  {
   "cell_type": "code",
   "execution_count": 15,
   "id": "060ee48f-41b3-47c1-a5bf-1d9a3f8aa90d",
   "metadata": {},
   "outputs": [
    {
     "name": "stdout",
     "output_type": "stream",
     "text": [
      "inside print_global: fruitbat\n"
     ]
    }
   ],
   "source": [
    "print_global()"
   ]
  },
  {
   "cell_type": "code",
   "execution_count": 24,
   "id": "f6685606-a8cf-4aff-a35c-fc18ea8776d9",
   "metadata": {},
   "outputs": [
    {
     "data": {
      "text/plain": [
       "'fruitbat'"
      ]
     },
     "execution_count": 24,
     "metadata": {},
     "output_type": "execute_result"
    }
   ],
   "source": [
    "#为了读取全局变量而不是函数中的局部变量，需要在变量前面显式地加关键字global\n",
    "animal = 'fruitbat'\n",
    "def change_and_print_global():\n",
    "    global animal\n",
    "    print(animal)\n",
    "    animal = 'wombat'\n",
    "    print('inside change_and_print_global:', animal)\n",
    "animal"
   ]
  },
  {
   "cell_type": "code",
   "execution_count": 25,
   "id": "13a07499-0f4d-4f2a-a679-213a2b628ffe",
   "metadata": {},
   "outputs": [
    {
     "name": "stdout",
     "output_type": "stream",
     "text": [
      "fruitbat\n",
      "inside change_and_print_global: wombat\n"
     ]
    }
   ],
   "source": [
    "change_and_print_global()"
   ]
  },
  {
   "cell_type": "code",
   "execution_count": null,
   "id": "d69e152b-3b22-4d4f-8695-626b192ed5bf",
   "metadata": {},
   "outputs": [],
   "source": []
  },
  {
   "cell_type": "markdown",
   "id": "ffe73047-65f0-4468-b94c-5d237953f1db",
   "metadata": {},
   "source": [
    "## 4.11 使用try和except处理错误"
   ]
  },
  {
   "cell_type": "code",
   "execution_count": 26,
   "id": "0face9e5-26e0-4808-a4ea-0ffdf50867dd",
   "metadata": {},
   "outputs": [],
   "source": [
    "short_list = [1,2,3]"
   ]
  },
  {
   "cell_type": "code",
   "execution_count": 27,
   "id": "65341cdc-196a-4a6e-ad1e-7e4c50ac6b0c",
   "metadata": {},
   "outputs": [
    {
     "ename": "IndexError",
     "evalue": "list index out of range",
     "output_type": "error",
     "traceback": [
      "\u001b[0;31m---------------------------------------------------------------------------\u001b[0m",
      "\u001b[0;31mIndexError\u001b[0m                                Traceback (most recent call last)",
      "Cell \u001b[0;32mIn[27], line 2\u001b[0m\n\u001b[1;32m      1\u001b[0m position \u001b[38;5;241m=\u001b[39m \u001b[38;5;241m5\u001b[39m\n\u001b[0;32m----> 2\u001b[0m \u001b[43mshort_list\u001b[49m\u001b[43m[\u001b[49m\u001b[43mposition\u001b[49m\u001b[43m]\u001b[49m\n",
      "\u001b[0;31mIndexError\u001b[0m: list index out of range"
     ]
    }
   ],
   "source": [
    "position = 5\n",
    "short_list[position]"
   ]
  },
  {
   "cell_type": "code",
   "execution_count": 28,
   "id": "9ec6f561-4e74-46d0-abda-3676817c6068",
   "metadata": {},
   "outputs": [
    {
     "name": "stdout",
     "output_type": "stream",
     "text": [
      "Need a position between 0 and 2  but got 5\n"
     ]
    }
   ],
   "source": [
    "try:\n",
    "    short_list[position]\n",
    "except:\n",
    "    print('Need a position between 0 and', len(short_list)-1, ' but got', position)"
   ]
  },
  {
   "cell_type": "markdown",
   "id": "3f92f71f-55bc-46f1-a6d0-48d7547c76eb",
   "metadata": {},
   "source": [
    "### 有时需要除了异常类型以外其他的异常细节，可以使用下面的格式获取整个异常对象：\n",
    "    except exceptiontype as name"
   ]
  },
  {
   "cell_type": "code",
   "execution_count": null,
   "id": "de9ee2da-5041-4f23-8342-01b8ce7f86b0",
   "metadata": {},
   "outputs": [],
   "source": []
  },
  {
   "cell_type": "markdown",
   "id": "b84942a3-f831-4955-9cc0-c50378717981",
   "metadata": {},
   "source": [
    "# 第五章\n",
    "## python盒子：模块、包和程序"
   ]
  },
  {
   "cell_type": "markdown",
   "id": "4ae35578-fcf1-40f3-a4f8-d55d487370dc",
   "metadata": {},
   "source": [
    "## 5.2 命令行参数"
   ]
  },
  {
   "cell_type": "code",
   "execution_count": 1,
   "id": "7a99e2a0-28f9-4c5f-834f-68de6d78bf1f",
   "metadata": {},
   "outputs": [
    {
     "name": "stdout",
     "output_type": "stream",
     "text": [
      "Program arguments: ['/home/lzy/miniconda3/lib/python3.11/site-packages/ipykernel_launcher.py', '-f', '/home/lzy/.local/share/jupyter/runtime/kernel-2a7425b1-c15e-4467-9190-5ab98cf2a5b6.json']\n"
     ]
    }
   ],
   "source": [
    "## test2.py\n",
    "import sys\n",
    "print('Program arguments:', sys.argv)"
   ]
  },
  {
   "cell_type": "code",
   "execution_count": 2,
   "id": "d21705c7-ff73-48a0-92b6-0070d7a137a0",
   "metadata": {},
   "outputs": [
    {
     "name": "stdout",
     "output_type": "stream",
     "text": [
      "Program arguments: ['test2.py']\n"
     ]
    }
   ],
   "source": [
    "!python test2.py"
   ]
  },
  {
   "cell_type": "code",
   "execution_count": 3,
   "id": "7e8bb011-3a05-46c3-984d-d52378f4fae4",
   "metadata": {},
   "outputs": [
    {
     "data": {
      "text/plain": [
       "'fog'"
      ]
     },
     "execution_count": 3,
     "metadata": {},
     "output_type": "execute_result"
    }
   ],
   "source": [
    "from random import choice\n",
    "possibilities = ['rain', 'snow', 'sleet', 'fog', 'sun', 'who knows']\n",
    "choice(possibilities)"
   ]
  },
  {
   "cell_type": "markdown",
   "id": "a64e55d9-f114-4645-92e0-5128a48b614d",
   "metadata": {},
   "source": [
    "### 5.3.4 模块搜索路径"
   ]
  },
  {
   "cell_type": "code",
   "execution_count": 4,
   "id": "86c45e19-63d7-42ad-9cc1-2e687e2849a2",
   "metadata": {},
   "outputs": [
    {
     "name": "stdout",
     "output_type": "stream",
     "text": [
      "/mnt/d/99_pipeline/Study/06_python语言及其应用\n",
      "/home/lzy/miniconda3/lib/python311.zip\n",
      "/home/lzy/miniconda3/lib/python3.11\n",
      "/home/lzy/miniconda3/lib/python3.11/lib-dynload\n",
      "\n",
      "/home/lzy/miniconda3/lib/python3.11/site-packages\n"
     ]
    }
   ],
   "source": [
    "import sys\n",
    "for place in sys.path:\n",
    "    print(place)"
   ]
  },
  {
   "cell_type": "markdown",
   "id": "96fcbce2-7fa1-46ca-85bf-39b2e199b9db",
   "metadata": {},
   "source": [
    "## 5.4 包\n",
    "    为了使Python应用更具可扩展性，你可以把多个模块组织成文件层次，称之为包。"
   ]
  },
  {
   "cell_type": "code",
   "execution_count": 8,
   "id": "98a808d8-1103-4186-b002-449a5d34570d",
   "metadata": {},
   "outputs": [
    {
     "name": "stdout",
     "output_type": "stream",
     "text": [
      "Daily forecast: like yesterday\n",
      "Weekly forecast:\n",
      "1 snow\n",
      "2 more snow\n",
      "3 sleet\n",
      "4 freezing rain\n",
      "5 rain\n",
      "6 fog\n",
      "7 hail\n"
     ]
    }
   ],
   "source": [
    "!python weather.py"
   ]
  },
  {
   "cell_type": "markdown",
   "id": "5fa46838-eec3-440c-a5a7-c94c41a18212",
   "metadata": {},
   "source": [
    "## 5.5 标准库\n",
    "### 5.5.1 使用setdefault（）和defaultdict（）处理缺失的键"
   ]
  },
  {
   "cell_type": "code",
   "execution_count": 9,
   "id": "659ae90c-a5b0-4377-bd60-97de434850b7",
   "metadata": {},
   "outputs": [
    {
     "data": {
      "text/plain": [
       "{'Hydrogen': 1, 'Helium': 2}"
      ]
     },
     "execution_count": 9,
     "metadata": {},
     "output_type": "execute_result"
    }
   ],
   "source": [
    "periodic_table = {'Hydrogen': 1, 'Helium': 2} \n",
    "periodic_table"
   ]
  },
  {
   "cell_type": "code",
   "execution_count": 10,
   "id": "625806e3-654d-47ed-9669-939ed1a5a3aa",
   "metadata": {},
   "outputs": [
    {
     "data": {
      "text/plain": [
       "12"
      ]
     },
     "execution_count": 10,
     "metadata": {},
     "output_type": "execute_result"
    }
   ],
   "source": [
    "carbon = periodic_table.setdefault('Carbon', 12)\n",
    "carbon"
   ]
  },
  {
   "cell_type": "code",
   "execution_count": 11,
   "id": "81a7c2f2-b90b-43ee-aa12-294a811b14f3",
   "metadata": {},
   "outputs": [
    {
     "data": {
      "text/plain": [
       "2"
      ]
     },
     "execution_count": 11,
     "metadata": {},
     "output_type": "execute_result"
    }
   ],
   "source": [
    "helium = periodic_table.setdefault('Helium', 947)\n",
    "helium"
   ]
  },
  {
   "cell_type": "code",
   "execution_count": 12,
   "id": "bd87de74-0cfc-4e0d-a093-5a41d0b2900e",
   "metadata": {},
   "outputs": [
    {
     "data": {
      "text/plain": [
       "{'Hydrogen': 1, 'Helium': 2, 'Carbon': 12}"
      ]
     },
     "execution_count": 12,
     "metadata": {},
     "output_type": "execute_result"
    }
   ],
   "source": [
    "periodic_table"
   ]
  },
  {
   "cell_type": "code",
   "execution_count": 13,
   "id": "b07f7837-6ac4-4539-9247-6e47e2da3f00",
   "metadata": {},
   "outputs": [
    {
     "data": {
      "text/plain": [
       "0"
      ]
     },
     "execution_count": 13,
     "metadata": {},
     "output_type": "execute_result"
    }
   ],
   "source": [
    "#  defaultdict() 也有同样的用法，但是在创建字典时，对每个新的键都会指定默认值。\n",
    "from collections import defaultdict \n",
    "periodic_table = defaultdict(int)\n",
    "periodic_table['Hydrogen'] = 1\n",
    "periodic_table['Lead'] "
   ]
  },
  {
   "cell_type": "code",
   "execution_count": 14,
   "id": "f7522918-8a1f-4fe3-8677-e249a4172fa1",
   "metadata": {},
   "outputs": [
    {
     "data": {
      "text/plain": [
       "defaultdict(int, {'Hydrogen': 1, 'Lead': 0})"
      ]
     },
     "execution_count": 14,
     "metadata": {},
     "output_type": "execute_result"
    }
   ],
   "source": [
    "periodic_table"
   ]
  },
  {
   "cell_type": "code",
   "execution_count": 15,
   "id": "ec037a6d-dff5-4b24-8160-a50d4a3f2ad7",
   "metadata": {},
   "outputs": [
    {
     "data": {
      "text/plain": [
       "'Abominable Snowman'"
      ]
     },
     "execution_count": 15,
     "metadata": {},
     "output_type": "execute_result"
    }
   ],
   "source": [
    "# 函数defaultdict() 的参数是一个函数，它返回赋给缺失键的值。\n",
    "from collections import defaultdict\n",
    "def no_idea():\n",
    "    return 'Huh?' \n",
    "bestiary = defaultdict(no_idea) \n",
    "bestiary['A'] = 'Abominable Snowman'\n",
    "bestiary['B'] = 'Basilisk'\n",
    "bestiary['A'] \n"
   ]
  },
  {
   "cell_type": "code",
   "execution_count": 16,
   "id": "cc415382-9f99-4e09-b1c9-07613d308999",
   "metadata": {},
   "outputs": [
    {
     "data": {
      "text/plain": [
       "'Basilisk'"
      ]
     },
     "execution_count": 16,
     "metadata": {},
     "output_type": "execute_result"
    }
   ],
   "source": [
    "bestiary['B'] "
   ]
  },
  {
   "cell_type": "code",
   "execution_count": 17,
   "id": "d01df03d-6989-48c3-9f2d-288554a58e91",
   "metadata": {},
   "outputs": [
    {
     "data": {
      "text/plain": [
       "'Huh?'"
      ]
     },
     "execution_count": 17,
     "metadata": {},
     "output_type": "execute_result"
    }
   ],
   "source": [
    "bestiary['C'] "
   ]
  },
  {
   "cell_type": "code",
   "execution_count": 20,
   "id": "f7a491b3-5833-43cd-81cb-13eafa0af480",
   "metadata": {},
   "outputs": [
    {
     "data": {
      "text/plain": [
       "'Huh?'"
      ]
     },
     "execution_count": 20,
     "metadata": {},
     "output_type": "execute_result"
    }
   ],
   "source": [
    "# 顺便提一下，也可以使用lambda来定义你的默认值函数：\n",
    "bestiary = defaultdict(lambda: 'Huh?')\n",
    "bestiary['E'] "
   ]
  },
  {
   "cell_type": "code",
   "execution_count": 21,
   "id": "08d23f92-2435-4a22-8aee-77518562f5e3",
   "metadata": {},
   "outputs": [
    {
     "name": "stdout",
     "output_type": "stream",
     "text": [
      "spam 3\n",
      "eggs 1\n"
     ]
    }
   ],
   "source": [
    "# 使用int是一种定义计数器的方式：\n",
    "from collections import defaultdict\n",
    "food_counter = defaultdict(int) \n",
    "for food in ['spam', 'spam', 'eggs', 'spam']:\n",
    "    food_counter[food] += 1\n",
    "for food, count in food_counter.items():\n",
    "    print(food, count)"
   ]
  },
  {
   "cell_type": "markdown",
   "id": "e6612060-8452-4107-95af-618429fea46f",
   "metadata": {},
   "source": [
    "### 5.5.2 使用Counter()计数"
   ]
  },
  {
   "cell_type": "code",
   "execution_count": 22,
   "id": "407b7ef6-5cad-4b36-a0d1-7602bc6062db",
   "metadata": {},
   "outputs": [
    {
     "data": {
      "text/plain": [
       "Counter({'spam': 3, 'eggs': 1})"
      ]
     },
     "execution_count": 22,
     "metadata": {},
     "output_type": "execute_result"
    }
   ],
   "source": [
    "from collections import Counter\n",
    "breakfast = ['spam', 'spam', 'eggs', 'spam']\n",
    "breakfast_counter = Counter(breakfast)\n",
    "breakfast_counter"
   ]
  },
  {
   "cell_type": "code",
   "execution_count": 23,
   "id": "a6192ee2-bc61-4e06-bf59-f5234bafb69e",
   "metadata": {},
   "outputs": [
    {
     "data": {
      "text/plain": [
       "[('spam', 3), ('eggs', 1)]"
      ]
     },
     "execution_count": 23,
     "metadata": {},
     "output_type": "execute_result"
    }
   ],
   "source": [
    "# 函数most_common() 以降序返回所有元素，或者如果给定一个数字，会返回该数字前的元素\n",
    "breakfast_counter.most_common()"
   ]
  },
  {
   "cell_type": "code",
   "execution_count": 28,
   "id": "a113b7e7-4583-4bd5-9f30-b43257531098",
   "metadata": {},
   "outputs": [
    {
     "data": {
      "text/plain": [
       "[('spam', 3)]"
      ]
     },
     "execution_count": 28,
     "metadata": {},
     "output_type": "execute_result"
    }
   ],
   "source": [
    "breakfast_counter.most_common(1)"
   ]
  },
  {
   "cell_type": "code",
   "execution_count": 29,
   "id": "62795587-3c8b-4320-b1e5-5b27a16c3dc5",
   "metadata": {},
   "outputs": [
    {
     "data": {
      "text/plain": [
       "Counter({'eggs': 2, 'bacon': 1})"
      ]
     },
     "execution_count": 29,
     "metadata": {},
     "output_type": "execute_result"
    }
   ],
   "source": [
    "lunch = ['eggs', 'eggs', 'bacon']\n",
    "lunch_counter = Counter(lunch) \n",
    "lunch_counter"
   ]
  },
  {
   "cell_type": "code",
   "execution_count": 30,
   "id": "56832225-5743-4e05-8969-b0681d983023",
   "metadata": {},
   "outputs": [
    {
     "data": {
      "text/plain": [
       "Counter({'spam': 3, 'eggs': 3, 'bacon': 1})"
      ]
     },
     "execution_count": 30,
     "metadata": {},
     "output_type": "execute_result"
    }
   ],
   "source": [
    "# + - | & \n",
    "breakfast_counter + lunch_counter "
   ]
  },
  {
   "cell_type": "code",
   "execution_count": 31,
   "id": "459552b1-8539-4b23-b965-496b8558dc46",
   "metadata": {},
   "outputs": [
    {
     "data": {
      "text/plain": [
       "Counter({'spam': 3, 'eggs': 2, 'bacon': 1})"
      ]
     },
     "execution_count": 31,
     "metadata": {},
     "output_type": "execute_result"
    }
   ],
   "source": [
    "breakfast_counter | lunch_counter "
   ]
  },
  {
   "cell_type": "markdown",
   "id": "fb9713a3-6c12-4002-8004-9dffb627f029",
   "metadata": {},
   "source": [
    "### 5.5.3　使用有序字典OrderedDict()按键排序\n",
    "    一个字典中键的顺序是不可预知的"
   ]
  },
  {
   "cell_type": "code",
   "execution_count": 32,
   "id": "63f3bc5e-075d-4245-9cbc-797feb5e0c8a",
   "metadata": {},
   "outputs": [
    {
     "name": "stdout",
     "output_type": "stream",
     "text": [
      "Moe\n",
      "Larry\n",
      "Curly\n"
     ]
    }
   ],
   "source": [
    " from collections import OrderedDict \n",
    "quotes = OrderedDict([ \n",
    "('Moe', 'A wise guy, huh?'), \n",
    "('Larry', 'Ow!'), \n",
    "('Curly', 'Nyuk nyuk!'), \n",
    "]) \n",
    "\n",
    "for stooge in quotes:\n",
    "    print(stooge) "
   ]
  },
  {
   "cell_type": "markdown",
   "id": "55eff6c4-c0b1-4be6-87d8-ef25bc9ec283",
   "metadata": {},
   "source": [
    "###  5.5.4　双端队列：栈+队列\n",
    "    deque 是一种双端队列，同时具有栈和队列的特征。它可以从序列的任何一端添加和删除项\n",
    "    函数popleft()去掉最左边的项并返回该项\n",
    "    pop()去掉最右边的项并返回该项"
   ]
  },
  {
   "cell_type": "code",
   "execution_count": 35,
   "id": "4ad52296-9cae-479c-afe5-8abf6b22b07e",
   "metadata": {},
   "outputs": [],
   "source": [
    "def palindrome(word): \n",
    "    from collections import deque\n",
    "    dq = deque(word) \n",
    "    while len(dq) > 1: \n",
    "        if dq.popleft() != dq.pop(): \n",
    "            return False \n",
    "    return True "
   ]
  },
  {
   "cell_type": "markdown",
   "id": "50c25a5d-c5cd-4f2f-9443-021bf9685f82",
   "metadata": {},
   "source": [
    "###  5.5.5　使用itertools迭代代码结构\n",
    "    即使chain() 的参数只是单个迭代对象，它也会使用参数进行迭代"
   ]
  },
  {
   "cell_type": "code",
   "execution_count": 37,
   "id": "5a25aa4b-9e2e-49dd-a98d-2267989d272e",
   "metadata": {},
   "outputs": [
    {
     "name": "stdout",
     "output_type": "stream",
     "text": [
      "1\n",
      "2\n",
      "a\n",
      "b\n"
     ]
    }
   ],
   "source": [
    "import itertools\n",
    "for item in itertools.chain([1,2],['a','b']):\n",
    "    print(item)"
   ]
  },
  {
   "cell_type": "code",
   "execution_count": 39,
   "id": "76605df3-3f3e-4e9c-b12b-91948876ac17",
   "metadata": {},
   "outputs": [],
   "source": [
    "# cycle() 是一个在它的参数之间循环的无限迭代器\n",
    "# for item in itertools.cycle([1, 2]):\n",
    "    # print(item)"
   ]
  },
  {
   "cell_type": "code",
   "execution_count": 41,
   "id": "be4f76cd-ade4-4d94-80a3-17a8c7b19c96",
   "metadata": {},
   "outputs": [
    {
     "name": "stdout",
     "output_type": "stream",
     "text": [
      "1\n",
      "3\n",
      "6\n",
      "10\n"
     ]
    }
   ],
   "source": [
    "# accumulate() 计算累积的值。默认的话，它计算的是累加和\n",
    "for item in itertools.accumulate([1, 2, 3, 4]): \n",
    "    print(item)"
   ]
  },
  {
   "cell_type": "code",
   "execution_count": 42,
   "id": "ee7e4e21-7d76-4701-bace-866fc5e64599",
   "metadata": {},
   "outputs": [
    {
     "name": "stdout",
     "output_type": "stream",
     "text": [
      "1\n",
      "2\n",
      "6\n",
      "24\n"
     ]
    }
   ],
   "source": [
    "# 可以把一个函数作为accumulate()的第二个参数，代替默认的加法函数。\n",
    "def multiply(a, b):\n",
    "    return a * b\n",
    "for item in itertools.accumulate([1,2,3,4], multiply):\n",
    "    print(item)"
   ]
  },
  {
   "cell_type": "markdown",
   "id": "055e5bf7-b3ef-4465-8806-ce28c6f85604",
   "metadata": {},
   "source": [
    "### 5.5.6　使用pprint()友好输出"
   ]
  },
  {
   "cell_type": "code",
   "execution_count": 43,
   "id": "5abfc943-e467-49c1-88de-a6abc193f4ff",
   "metadata": {},
   "outputs": [
    {
     "name": "stdout",
     "output_type": "stream",
     "text": [
      "OrderedDict([('Moe', 'A wise guy, huh?'), ('Larry', 'Ow!'), ('Curly', 'Nyuk nyuk!')])\n",
      "OrderedDict([('Moe', 'A wise guy, huh?'),\n",
      "             ('Larry', 'Ow!'),\n",
      "             ('Curly', 'Nyuk nyuk!')])\n"
     ]
    }
   ],
   "source": [
    "from pprint import pprint \n",
    "quotes = OrderedDict([ \n",
    "('Moe', 'A wise guy, huh?'), \n",
    "('Larry', 'Ow!'), \n",
    "('Curly', 'Nyuk nyuk!'), \n",
    "]) \n",
    "print(quotes)\n",
    "pprint(quotes)"
   ]
  },
  {
   "cell_type": "code",
   "execution_count": null,
   "id": "3a82ca37-78a1-4def-aaaf-90990cd11f45",
   "metadata": {},
   "outputs": [],
   "source": []
  },
  {
   "cell_type": "markdown",
   "id": "abb1d1f8-75ff-4305-a8bc-8e697e31505a",
   "metadata": {},
   "source": [
    "# 第六章 对象和类 "
   ]
  },
  {
   "cell_type": "code",
   "execution_count": null,
   "id": "f8782f65-4c3e-4666-b465-7bb25657cd85",
   "metadata": {},
   "outputs": [],
   "source": []
  },
  {
   "cell_type": "code",
   "execution_count": null,
   "id": "6a826718-3dc1-4b7d-87c7-f8eae0414ddf",
   "metadata": {},
   "outputs": [],
   "source": []
  },
  {
   "cell_type": "code",
   "execution_count": null,
   "id": "155a95d2-f3fd-4bd5-8efe-67b5f777ad90",
   "metadata": {},
   "outputs": [],
   "source": []
  },
  {
   "cell_type": "code",
   "execution_count": null,
   "id": "cf9b8445-c61d-44f8-8e67-ed841b21e74e",
   "metadata": {},
   "outputs": [],
   "source": []
  },
  {
   "cell_type": "code",
   "execution_count": null,
   "id": "817f0e60-d764-4315-8fa7-47725e1d8e3c",
   "metadata": {},
   "outputs": [],
   "source": []
  },
  {
   "cell_type": "code",
   "execution_count": null,
   "id": "13b0659e-b5ea-4f78-9ca6-b906f82cf891",
   "metadata": {},
   "outputs": [],
   "source": []
  },
  {
   "cell_type": "code",
   "execution_count": null,
   "id": "f5ca9e51-59ec-4cbe-884a-c0037f16e566",
   "metadata": {},
   "outputs": [],
   "source": []
  },
  {
   "cell_type": "code",
   "execution_count": null,
   "id": "58383d43-6c1d-48d1-9408-a8dfcff91560",
   "metadata": {},
   "outputs": [],
   "source": []
  },
  {
   "cell_type": "code",
   "execution_count": null,
   "id": "262f6936-e8f2-4f44-ae31-f795e355425e",
   "metadata": {},
   "outputs": [],
   "source": []
  },
  {
   "cell_type": "code",
   "execution_count": null,
   "id": "e09d5176-2510-4fe7-8cd1-85a156eb0419",
   "metadata": {},
   "outputs": [],
   "source": []
  },
  {
   "cell_type": "code",
   "execution_count": null,
   "id": "d5cf8e49-f74a-4c5f-b569-f0ec411147be",
   "metadata": {},
   "outputs": [],
   "source": []
  },
  {
   "cell_type": "code",
   "execution_count": null,
   "id": "31f7f2e0-8576-486e-bdd0-899b890e28f9",
   "metadata": {},
   "outputs": [],
   "source": []
  },
  {
   "cell_type": "code",
   "execution_count": null,
   "id": "5c4d3d9e-884b-475e-9f86-77c789bbbdd8",
   "metadata": {},
   "outputs": [],
   "source": []
  },
  {
   "cell_type": "code",
   "execution_count": null,
   "id": "d767e388-fccd-4700-bc45-ea4c24152d01",
   "metadata": {},
   "outputs": [],
   "source": []
  },
  {
   "cell_type": "code",
   "execution_count": null,
   "id": "7341f631-2789-4e47-a953-b657b94a57ff",
   "metadata": {},
   "outputs": [],
   "source": []
  },
  {
   "cell_type": "code",
   "execution_count": null,
   "id": "26219569-e190-439f-8d3b-142b1daac10a",
   "metadata": {},
   "outputs": [],
   "source": []
  },
  {
   "cell_type": "code",
   "execution_count": null,
   "id": "5f895af7-8466-4bf4-b919-5b7e097f2385",
   "metadata": {},
   "outputs": [],
   "source": []
  },
  {
   "cell_type": "code",
   "execution_count": null,
   "id": "922af0aa-54da-4465-824d-d32af0b6e25f",
   "metadata": {},
   "outputs": [],
   "source": []
  },
  {
   "cell_type": "code",
   "execution_count": null,
   "id": "0cb8657f-ab2c-4f9d-af2d-833ac2924073",
   "metadata": {},
   "outputs": [],
   "source": []
  },
  {
   "cell_type": "code",
   "execution_count": null,
   "id": "3db6d7fa-9033-41b9-925c-df085336707b",
   "metadata": {},
   "outputs": [],
   "source": []
  },
  {
   "cell_type": "code",
   "execution_count": null,
   "id": "5cebbb1a-79c6-406c-8e88-63b6dd3c02f4",
   "metadata": {},
   "outputs": [],
   "source": []
  },
  {
   "cell_type": "code",
   "execution_count": null,
   "id": "b167db6e-e74e-498c-859d-6f7161d497e5",
   "metadata": {},
   "outputs": [],
   "source": []
  },
  {
   "cell_type": "code",
   "execution_count": null,
   "id": "a8870259-7e46-4fc3-929a-3136b2c49cd5",
   "metadata": {},
   "outputs": [],
   "source": []
  },
  {
   "cell_type": "code",
   "execution_count": null,
   "id": "7ad2d28e-15aa-48b6-8e6c-e62a31f657f0",
   "metadata": {},
   "outputs": [],
   "source": []
  },
  {
   "cell_type": "code",
   "execution_count": null,
   "id": "1ad21120-d75c-4529-872a-803f2fc40521",
   "metadata": {},
   "outputs": [],
   "source": []
  },
  {
   "cell_type": "code",
   "execution_count": null,
   "id": "03dd450b-3a4f-4f2f-8024-1115d43b55ab",
   "metadata": {},
   "outputs": [],
   "source": []
  }
 ],
 "metadata": {
  "kernelspec": {
   "display_name": "Python 3 (ipykernel)",
   "language": "python",
   "name": "python3"
  },
  "language_info": {
   "codemirror_mode": {
    "name": "ipython",
    "version": 3
   },
   "file_extension": ".py",
   "mimetype": "text/x-python",
   "name": "python",
   "nbconvert_exporter": "python",
   "pygments_lexer": "ipython3",
   "version": "3.11.5"
  }
 },
 "nbformat": 4,
 "nbformat_minor": 5
}
