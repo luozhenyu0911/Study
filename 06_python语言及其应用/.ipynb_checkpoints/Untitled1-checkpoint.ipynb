{
 "cells": [
  {
   "cell_type": "markdown",
   "id": "a719b0f4-c0df-4104-a2f2-2cba6284a5d0",
   "metadata": {},
   "source": [
    "#### 2.3.10 使用join()合并"
   ]
  },
  {
   "cell_type": "code",
   "execution_count": 2,
   "id": "60a564a4-0c40-474a-925f-163f4e92690b",
   "metadata": {},
   "outputs": [
    {
     "name": "stdout",
     "output_type": "stream",
     "text": [
      "Yeti,Bigfoot,Loch Ness Monster\n"
     ]
    }
   ],
   "source": [
    "crypto_list = ['Yeti', 'Bigfoot', 'Loch Ness Monster']\n",
    "print(','.join(crypto_list))"
   ]
  },
  {
   "cell_type": "markdown",
   "id": "467527ad-1581-4fad-8c1b-921f213fb960",
   "metadata": {},
   "source": [
    "#### 2.3.11 熟悉字符串"
   ]
  },
  {
   "cell_type": "code",
   "execution_count": 3,
   "id": "256afb8f-a204-422e-b82b-22a033de713a",
   "metadata": {},
   "outputs": [],
   "source": [
    "poem = '''All that doth flow we cannot liquid name\n",
    "Or else would fire and water be the same;\n",
    "But that is liquid which is moist and wet\n",
    "Fire that property can never get.\n",
    "Then 'tis not cold that doth the fire put out\n",
    "But 'tis the wet that makes it die, no doubt.'''"
   ]
  },
  {
   "cell_type": "code",
   "execution_count": 7,
   "id": "b89a5ae7-0136-4c0f-970a-fc4b532d020d",
   "metadata": {
    "scrolled": true
   },
   "outputs": [
    {
     "name": "stdout",
     "output_type": "stream",
     "text": [
      "All that doth\n",
      "250\n",
      "True\n",
      "False\n",
      "73\n",
      "214\n",
      "3\n",
      "False\n"
     ]
    }
   ],
   "source": [
    "print(poem[:13])\n",
    "print(len(poem))\n",
    "print( poem.startswith('All'))\n",
    "print( poem.endswith('That\\'s all, folks!'))\n",
    "# 第一次出现单词 the 的位置\n",
    "print(poem.find('the'))\n",
    "# 最后次出现单词 the 的位置\n",
    "print(poem.rfind('the'))\n",
    "print(poem.count('the'))\n",
    "print( poem.isalnum())"
   ]
  },
  {
   "cell_type": "markdown",
   "id": "ab15313e-b665-48f4-a1d7-90744237210d",
   "metadata": {},
   "source": [
    "#### 2.3.12 大小写与对齐方式"
   ]
  },
  {
   "cell_type": "code",
   "execution_count": 8,
   "id": "d476e77b-0a52-47cf-802e-7c6f31d13315",
   "metadata": {},
   "outputs": [],
   "source": [
    "setup = 'a duck goes into a bar...'"
   ]
  },
  {
   "cell_type": "code",
   "execution_count": 9,
   "id": "0a814666-7634-4d7a-b2bd-f711ec398efb",
   "metadata": {},
   "outputs": [
    {
     "data": {
      "text/plain": [
       "'A duck goes into a bar...'"
      ]
     },
     "execution_count": 9,
     "metadata": {},
     "output_type": "execute_result"
    }
   ],
   "source": [
    "setup.capitalize()"
   ]
  },
  {
   "cell_type": "code",
   "execution_count": 11,
   "id": "b7352fe7-e251-4166-bfb3-26a1cda0f9f8",
   "metadata": {},
   "outputs": [
    {
     "data": {
      "text/plain": [
       "'A Duck Goes Into A Bar...'"
      ]
     },
     "execution_count": 11,
     "metadata": {},
     "output_type": "execute_result"
    }
   ],
   "source": [
    "setup.title()"
   ]
  },
  {
   "cell_type": "code",
   "execution_count": 13,
   "id": "89f2d442-65af-4f46-b572-d9b37dafb984",
   "metadata": {},
   "outputs": [
    {
     "data": {
      "text/plain": [
       "'A DUCK GOES INTO A BAR...'"
      ]
     },
     "execution_count": 13,
     "metadata": {},
     "output_type": "execute_result"
    }
   ],
   "source": [
    "setup.upper()"
   ]
  },
  {
   "cell_type": "code",
   "execution_count": 14,
   "id": "c0662e92-b3b0-47da-8fa6-4576f982c226",
   "metadata": {},
   "outputs": [
    {
     "data": {
      "text/plain": [
       "'a duck goes into a bar...'"
      ]
     },
     "execution_count": 14,
     "metadata": {},
     "output_type": "execute_result"
    }
   ],
   "source": [
    "setup.lower()"
   ]
  },
  {
   "cell_type": "code",
   "execution_count": 15,
   "id": "743f50a0-2cca-46cd-a7fb-362bac28dbc6",
   "metadata": {},
   "outputs": [
    {
     "data": {
      "text/plain": [
       "'A DUCK GOES INTO A BAR...'"
      ]
     },
     "execution_count": 15,
     "metadata": {},
     "output_type": "execute_result"
    }
   ],
   "source": [
    "setup.swapcase()"
   ]
  },
  {
   "cell_type": "code",
   "execution_count": 16,
   "id": "d11140b6-e4c3-4569-b4b1-4d579d90a16a",
   "metadata": {},
   "outputs": [
    {
     "data": {
      "text/plain": [
       "'  a duck goes into a bar...   '"
      ]
     },
     "execution_count": 16,
     "metadata": {},
     "output_type": "execute_result"
    }
   ],
   "source": [
    "# 在30个字符位居中\n",
    "setup.center(30)"
   ]
  },
  {
   "cell_type": "code",
   "execution_count": 17,
   "id": "d23c54c3-0136-4216-a4ec-8f14575409b6",
   "metadata": {},
   "outputs": [
    {
     "data": {
      "text/plain": [
       "'a duck goes into a bar...     '"
      ]
     },
     "execution_count": 17,
     "metadata": {},
     "output_type": "execute_result"
    }
   ],
   "source": [
    "setup.ljust(30)"
   ]
  },
  {
   "cell_type": "code",
   "execution_count": 18,
   "id": "b6bfa29f-356d-41b2-8b21-3f6d9f7c8e1e",
   "metadata": {},
   "outputs": [
    {
     "data": {
      "text/plain": [
       "'     a duck goes into a bar...'"
      ]
     },
     "execution_count": 18,
     "metadata": {},
     "output_type": "execute_result"
    }
   ],
   "source": [
    "setup.rjust(30)"
   ]
  },
  {
   "cell_type": "markdown",
   "id": "35b1e25f-a563-46bd-9fd2-606403e18767",
   "metadata": {},
   "source": [
    "#### 2.3.13 使用replace（）替换"
   ]
  },
  {
   "cell_type": "code",
   "execution_count": 19,
   "id": "67523578-3d19-4765-8b21-bf515acdb827",
   "metadata": {},
   "outputs": [
    {
     "data": {
      "text/plain": [
       "'a marmoset goes into a bar...'"
      ]
     },
     "execution_count": 19,
     "metadata": {},
     "output_type": "execute_result"
    }
   ],
   "source": [
    "setup.replace('duck', 'marmoset')"
   ]
  },
  {
   "cell_type": "code",
   "execution_count": 20,
   "id": "7057b216-b5a3-4cac-bc47-f8a038c2fc88",
   "metadata": {},
   "outputs": [
    {
     "data": {
      "text/plain": [
       "'a famous  duck goes into a famous  ba famous r...'"
      ]
     },
     "execution_count": 20,
     "metadata": {},
     "output_type": "execute_result"
    }
   ],
   "source": [
    "# 修改最多100处\n",
    "setup.replace('a', 'a famous ',100)"
   ]
  },
  {
   "cell_type": "markdown",
   "id": "a46069f8-bce7-4495-8af9-086aedd9e4f8",
   "metadata": {},
   "source": [
    "## Python容器：列表、元组、字典与集合 "
   ]
  },
  {
   "cell_type": "markdown",
   "id": "d5282a1d-5504-4150-a5bc-1b61a1d1c096",
   "metadata": {},
   "source": [
    "### 使用list（）将其他数据类型转换为列表"
   ]
  },
  {
   "cell_type": "code",
   "execution_count": 21,
   "id": "bd45689b-18fa-480a-a30c-5d2452d1f80b",
   "metadata": {},
   "outputs": [
    {
     "data": {
      "text/plain": [
       "['c', 'a', 't']"
      ]
     },
     "execution_count": 21,
     "metadata": {},
     "output_type": "execute_result"
    }
   ],
   "source": [
    "list('cat')"
   ]
  },
  {
   "cell_type": "markdown",
   "id": "8bad33f3-90ed-45b3-b7ac-d94412acc346",
   "metadata": {},
   "source": [
    "#### 3.2.8使用extend（）或+=合并列表\n"
   ]
  },
  {
   "cell_type": "code",
   "execution_count": 36,
   "id": "a1718c52-da36-43bb-801c-62e5fd6213d9",
   "metadata": {},
   "outputs": [
    {
     "data": {
      "text/plain": [
       "['Groucho', 'Chico', 'Harpo', 'Zeppo', 'Gummo', 'Karl']"
      ]
     },
     "execution_count": 36,
     "metadata": {},
     "output_type": "execute_result"
    }
   ],
   "source": [
    "marxes = ['Groucho', 'Chico', 'Harpo', 'Zeppo']\n",
    "others = ['Gummo', 'Karl']\n",
    "marxes.extend(others)\n",
    "marxes"
   ]
  },
  {
   "cell_type": "code",
   "execution_count": 37,
   "id": "117e2d28-01c9-42fc-873b-ed529111e6ce",
   "metadata": {},
   "outputs": [
    {
     "data": {
      "text/plain": [
       "[1, 1, 2, ['Gummo', 'Karl']]"
      ]
     },
     "execution_count": 37,
     "metadata": {},
     "output_type": "execute_result"
    }
   ],
   "source": [
    "a=[1,1,2]\n",
    "a.append(others)\n",
    "a"
   ]
  },
  {
   "cell_type": "code",
   "execution_count": 38,
   "id": "4ed63c5f-63d4-44fb-bd0d-079a3e8cc4e5",
   "metadata": {},
   "outputs": [
    {
     "data": {
      "text/plain": [
       "['Groucho', 'Chico', 'Harpo', 'Zeppo', 'Gummo', 'Karl', 'Gummo', 'Karl']"
      ]
     },
     "execution_count": 38,
     "metadata": {},
     "output_type": "execute_result"
    }
   ],
   "source": [
    "marxes+=others\n",
    "marxes"
   ]
  },
  {
   "cell_type": "code",
   "execution_count": 41,
   "id": "932486f7-4b71-458c-b348-b10ee332a39f",
   "metadata": {},
   "outputs": [
    {
     "name": "stdout",
     "output_type": "stream",
     "text": [
      "['Groucho', 'Chico', 'Harpo', 'Zeppo']\n"
     ]
    },
    {
     "data": {
      "text/plain": [
       "['Groucho', 'Chico', 'Harpo', 'Gummo', 'Zeppo']"
      ]
     },
     "execution_count": 41,
     "metadata": {},
     "output_type": "execute_result"
    }
   ],
   "source": [
    "marxes = ['Groucho', 'Chico', 'Harpo', 'Zeppo']\n",
    "print(marxes)\n",
    "marxes.insert(3, 'Gummo')\n",
    "marxes"
   ]
  },
  {
   "cell_type": "code",
   "execution_count": 42,
   "id": "538cdf94-e3bf-4d72-9c9f-94ca5bc2383d",
   "metadata": {},
   "outputs": [
    {
     "data": {
      "text/plain": [
       "['Groucho', 'Chico', 'Harpo', 'Gummo', 'Zeppo', 'Karl']"
      ]
     },
     "execution_count": 42,
     "metadata": {},
     "output_type": "execute_result"
    }
   ],
   "source": [
    "marxes.insert(10, 'Karl')\n",
    "marxes"
   ]
  },
  {
   "cell_type": "code",
   "execution_count": 47,
   "id": "695f0306-ab1f-4aff-a145-9724eaec22c3",
   "metadata": {},
   "outputs": [
    {
     "data": {
      "text/plain": [
       "['Groucho', 'Chico', 'Harpo', 'Gummo', 'Zeppo']"
      ]
     },
     "execution_count": 47,
     "metadata": {},
     "output_type": "execute_result"
    }
   ],
   "source": [
    "marxes = ['Groucho', 'Chico', 'Harpo', 'Gummo', 'Zeppo', 'Karl']\n",
    "del marxes[-1]\n",
    "marxes"
   ]
  },
  {
   "cell_type": "code",
   "execution_count": 48,
   "id": "665f1652-1078-474c-91a8-084271da6b61",
   "metadata": {},
   "outputs": [
    {
     "data": {
      "text/plain": [
       "['Groucho', 'Chico', 'Harpo', 'Zeppo']"
      ]
     },
     "execution_count": 48,
     "metadata": {},
     "output_type": "execute_result"
    }
   ],
   "source": [
    "marxes.remove('Gummo')\n",
    "marxes"
   ]
  },
  {
   "cell_type": "code",
   "execution_count": 49,
   "id": "1bac7f17-0684-4de2-9c92-d055fae84b60",
   "metadata": {},
   "outputs": [
    {
     "data": {
      "text/plain": [
       "['Groucho', 'Chico', 'Harpo']"
      ]
     },
     "execution_count": 49,
     "metadata": {},
     "output_type": "execute_result"
    }
   ],
   "source": [
    "marxes.pop()\n",
    "marxes"
   ]
  },
  {
   "cell_type": "code",
   "execution_count": 50,
   "id": "67dc0e47-efe3-41a8-af25-5dfd6b93fc7a",
   "metadata": {},
   "outputs": [
    {
     "data": {
      "text/plain": [
       "1"
      ]
     },
     "execution_count": 50,
     "metadata": {},
     "output_type": "execute_result"
    }
   ],
   "source": [
    "marxes.index('Chico')"
   ]
  },
  {
   "cell_type": "code",
   "execution_count": 52,
   "id": "b75cc172-4bfc-48a1-9243-b35a51983d4a",
   "metadata": {},
   "outputs": [
    {
     "data": {
      "text/plain": [
       "1"
      ]
     },
     "execution_count": 52,
     "metadata": {},
     "output_type": "execute_result"
    }
   ],
   "source": [
    "marxes.count('Harpo')"
   ]
  },
  {
   "cell_type": "code",
   "execution_count": 53,
   "id": "1d9500a6-51e0-40e2-a0a3-c8ec0363a88d",
   "metadata": {},
   "outputs": [
    {
     "name": "stdout",
     "output_type": "stream",
     "text": [
      "['Groucho', 'Chico', 'Harpo']\n"
     ]
    },
    {
     "data": {
      "text/plain": [
       "['Chico', 'Groucho', 'Harpo']"
      ]
     },
     "execution_count": 53,
     "metadata": {},
     "output_type": "execute_result"
    }
   ],
   "source": [
    "print(marxes)\n",
    "sorted_marxes = sorted(marxes)\n",
    "sorted_marxes"
   ]
  },
  {
   "cell_type": "code",
   "execution_count": 56,
   "id": "318f8b4c-ea0a-450f-9a12-1446052e5c23",
   "metadata": {},
   "outputs": [
    {
     "data": {
      "text/plain": [
       "['Chico', 'Groucho', 'Harpo']"
      ]
     },
     "execution_count": 56,
     "metadata": {},
     "output_type": "execute_result"
    }
   ],
   "source": [
    "marxes.sort()\n",
    "marxes"
   ]
  },
  {
   "cell_type": "code",
   "execution_count": 57,
   "id": "1d2f1e4d-cba6-440f-ae66-ffeb0447c2dc",
   "metadata": {},
   "outputs": [],
   "source": [
    "numbers = [2, 1, 4.0, 3]\n",
    "numbers.sort()"
   ]
  },
  {
   "cell_type": "code",
   "execution_count": 61,
   "id": "2fba87e5-321d-420a-a801-14b17d99f4d0",
   "metadata": {},
   "outputs": [
    {
     "data": {
      "text/plain": [
       "[4.0, 3, 2, 1]"
      ]
     },
     "execution_count": 61,
     "metadata": {},
     "output_type": "execute_result"
    }
   ],
   "source": [
    "numbers.sort(reverse=True)\n",
    "numbers"
   ]
  },
  {
   "cell_type": "code",
   "execution_count": 62,
   "id": "1aa475de-3903-4af9-803a-d293ec9d543a",
   "metadata": {},
   "outputs": [
    {
     "data": {
      "text/plain": [
       "4"
      ]
     },
     "execution_count": 62,
     "metadata": {},
     "output_type": "execute_result"
    }
   ],
   "source": [
    "len(numbers)"
   ]
  },
  {
   "cell_type": "markdown",
   "id": "1087f2e9-b327-4f38-9c84-b93213929149",
   "metadata": {},
   "source": [
    "### 3.4　字典\n"
   ]
  },
  {
   "cell_type": "code",
   "execution_count": 63,
   "id": "dae5f67d-20e7-4583-a943-843928ab41cf",
   "metadata": {},
   "outputs": [
    {
     "data": {
      "text/plain": [
       "{'a': 'b', 'c': 'd', 'e': 'f'}"
      ]
     },
     "execution_count": 63,
     "metadata": {},
     "output_type": "execute_result"
    }
   ],
   "source": [
    "lol = [ ['a', 'b'], ['c', 'd'], ['e', 'f'] ]\n",
    "dict(lol)"
   ]
  },
  {
   "cell_type": "markdown",
   "id": "33e87849-0af8-45c9-8bb4-f3515369e52a",
   "metadata": {},
   "source": [
    "#### 3.4.4 使用update()合并字典"
   ]
  },
  {
   "cell_type": "code",
   "execution_count": 73,
   "id": "c5cebc4d-39dd-4345-859c-bb7d20463c13",
   "metadata": {},
   "outputs": [],
   "source": [
    " pythons = {\n",
    "'Chapman': 'Graham',\n",
    "'Cleese': 'John',\n",
    "'Gilliam': 'Terry',\n",
    "'Idle': 'Eric',\n",
    " 'Jones': 'Terry',\n",
    " 'Palin': 'Michael',\n",
    "}"
   ]
  },
  {
   "cell_type": "code",
   "execution_count": 74,
   "id": "c26c1366-f0f0-4fe1-97b5-485dba31c5c8",
   "metadata": {},
   "outputs": [
    {
     "data": {
      "text/plain": [
       "{'Chapman': 'Graham',\n",
       " 'Cleese': 'John',\n",
       " 'Gilliam': 'Terry',\n",
       " 'Idle': 'Eric',\n",
       " 'Jones': 'Terry',\n",
       " 'Palin': 'Michael'}"
      ]
     },
     "execution_count": 74,
     "metadata": {},
     "output_type": "execute_result"
    }
   ],
   "source": [
    "pythons"
   ]
  },
  {
   "cell_type": "code",
   "execution_count": 75,
   "id": "753af0ab-3c9e-45fe-b4c3-9eb8b64d33d8",
   "metadata": {},
   "outputs": [
    {
     "data": {
      "text/plain": [
       "{'Marx': 'Groucho', 'Howard': 'Moe'}"
      ]
     },
     "execution_count": 75,
     "metadata": {},
     "output_type": "execute_result"
    }
   ],
   "source": [
    "others = { 'Marx': 'Groucho', 'Howard': 'Moe' }\n",
    "others"
   ]
  },
  {
   "cell_type": "code",
   "execution_count": 76,
   "id": "340c548f-229b-4989-b42e-fed7112989e7",
   "metadata": {},
   "outputs": [
    {
     "data": {
      "text/plain": [
       "{'Chapman': 'Graham',\n",
       " 'Cleese': 'John',\n",
       " 'Gilliam': 'Terry',\n",
       " 'Idle': 'Eric',\n",
       " 'Jones': 'Terry',\n",
       " 'Palin': 'Michael',\n",
       " 'Marx': 'Groucho',\n",
       " 'Howard': 'Moe'}"
      ]
     },
     "execution_count": 76,
     "metadata": {},
     "output_type": "execute_result"
    }
   ],
   "source": [
    "pythons.update(others)\n",
    "pythons"
   ]
  },
  {
   "cell_type": "code",
   "execution_count": 77,
   "id": "77064755-43d9-4742-98ea-df7ae8698318",
   "metadata": {},
   "outputs": [
    {
     "data": {
      "text/plain": [
       "{'Chapman': 'Graham',\n",
       " 'Cleese': 'John',\n",
       " 'Gilliam': 'Terry',\n",
       " 'Idle': 'Eric',\n",
       " 'Jones': 'Terry',\n",
       " 'Palin': 'Michael',\n",
       " 'Howard': 'Moe'}"
      ]
     },
     "execution_count": 77,
     "metadata": {},
     "output_type": "execute_result"
    }
   ],
   "source": [
    "del pythons['Marx']\n",
    "pythons"
   ]
  },
  {
   "cell_type": "code",
   "execution_count": 78,
   "id": "9242a75d-f10c-4fcb-8b93-66a2bd26935a",
   "metadata": {},
   "outputs": [
    {
     "data": {
      "text/plain": [
       "{}"
      ]
     },
     "execution_count": 78,
     "metadata": {},
     "output_type": "execute_result"
    }
   ],
   "source": [
    "pythons.clear()\n",
    "pythons"
   ]
  },
  {
   "cell_type": "code",
   "execution_count": 79,
   "id": "539570af-55cd-48d9-8cfd-51541da17377",
   "metadata": {},
   "outputs": [
    {
     "data": {
      "text/plain": [
       "['Groucho', 'Moe']"
      ]
     },
     "execution_count": 79,
     "metadata": {},
     "output_type": "execute_result"
    }
   ],
   "source": [
    "list(others.values())"
   ]
  },
  {
   "cell_type": "code",
   "execution_count": 80,
   "id": "9d98bb72-cc55-40ae-b6c0-1bb3a689363e",
   "metadata": {},
   "outputs": [
    {
     "data": {
      "text/plain": [
       "['Marx', 'Howard']"
      ]
     },
     "execution_count": 80,
     "metadata": {},
     "output_type": "execute_result"
    }
   ],
   "source": [
    "list(others.keys())"
   ]
  },
  {
   "cell_type": "markdown",
   "id": "a9ade0c4-da53-4ad2-af09-7b94ff3e3318",
   "metadata": {},
   "source": [
    "#### 3.5.1　使用set()创建集合 "
   ]
  },
  {
   "cell_type": "code",
   "execution_count": 81,
   "id": "33dc13be-1a7e-4a47-8bcd-005c8571096d",
   "metadata": {},
   "outputs": [
    {
     "data": {
      "text/plain": [
       "['l', 'e', 't', 't', 'e', 'r']"
      ]
     },
     "execution_count": 81,
     "metadata": {},
     "output_type": "execute_result"
    }
   ],
   "source": [
    "strings = 'letter'\n",
    "str_list = list(strings)\n",
    "str_list"
   ]
  },
  {
   "cell_type": "code",
   "execution_count": 82,
   "id": "be64ba8a-2631-4d9e-bbf6-cedaf83fd07a",
   "metadata": {},
   "outputs": [
    {
     "data": {
      "text/plain": [
       "{'e', 'l', 'r', 't'}"
      ]
     },
     "execution_count": 82,
     "metadata": {},
     "output_type": "execute_result"
    }
   ],
   "source": [
    "set(str_list)"
   ]
  },
  {
   "cell_type": "code",
   "execution_count": 83,
   "id": "5dabfefd-a028-45b8-b586-d52b5f787cf4",
   "metadata": {},
   "outputs": [
    {
     "data": {
      "text/plain": [
       "{'e', 'l', 'r', 't'}"
      ]
     },
     "execution_count": 83,
     "metadata": {},
     "output_type": "execute_result"
    }
   ],
   "source": [
    "set('letter')"
   ]
  },
  {
   "cell_type": "markdown",
   "id": "b1e7bdff-9ad5-4137-8b1c-5ebd82c9bcea",
   "metadata": {},
   "source": [
    "#### 3.5.4　合并及运算符\n",
    "    区别in 和 & 的用法"
   ]
  },
  {
   "cell_type": "code",
   "execution_count": 84,
   "id": "422ceffd-cbd1-4b9a-b17d-b66fd202034a",
   "metadata": {},
   "outputs": [],
   "source": [
    "drinks = { \n",
    "  'martini': {'vodka', 'vermouth'}, \n",
    "  'black russian': {'vodka', 'kahlua'}, \n",
    "  'white russian': {'cream', 'kahlua', 'vodka'}, \n",
    "  'manhattan': {'rye', 'vermouth', 'bitters'}, \n",
    "  'screwdriver': {'orange juice', 'vodka'} \n",
    "  }"
   ]
  },
  {
   "cell_type": "code",
   "execution_count": 88,
   "id": "9a455e6a-7890-40c2-b8b2-7f1914a4921d",
   "metadata": {},
   "outputs": [
    {
     "name": "stdout",
     "output_type": "stream",
     "text": [
      "martini\n",
      "manhattan\n",
      "screwdriver\n"
     ]
    }
   ],
   "source": [
    "for name, contents in drinks.items():\n",
    "  if contents & {'vermouth', 'orange juice'}:\n",
    "        print(name)\n",
    "\n",
    "# & 运算符的结果是一个集合，它包含所有同时出现在你比较的两个清单中的元素。"
   ]
  },
  {
   "cell_type": "code",
   "execution_count": 89,
   "id": "4ab4c207-8bd0-4c1c-809c-3473a77a306a",
   "metadata": {},
   "outputs": [
    {
     "data": {
      "text/plain": [
       "{2}"
      ]
     },
     "execution_count": 89,
     "metadata": {},
     "output_type": "execute_result"
    }
   ],
   "source": [
    "a = {1, 2}\n",
    "b = {2, 3}\n",
    "a & b"
   ]
  },
  {
   "cell_type": "code",
   "execution_count": 90,
   "id": "6b748ce7-6942-4a9f-8170-2e0620a2b829",
   "metadata": {},
   "outputs": [
    {
     "data": {
      "text/plain": [
       "{2}"
      ]
     },
     "execution_count": 90,
     "metadata": {},
     "output_type": "execute_result"
    }
   ],
   "source": [
    "a.intersection(b)"
   ]
  },
  {
   "cell_type": "code",
   "execution_count": 91,
   "id": "33ac8159-6bc8-4dbd-801d-d7af8d8d25bd",
   "metadata": {},
   "outputs": [
    {
     "data": {
      "text/plain": [
       "{1, 2, 3}"
      ]
     },
     "execution_count": 91,
     "metadata": {},
     "output_type": "execute_result"
    }
   ],
   "source": [
    "a | b"
   ]
  },
  {
   "cell_type": "code",
   "execution_count": 92,
   "id": "90bbb1d5-0782-4e61-8cae-37cc1c214647",
   "metadata": {},
   "outputs": [
    {
     "data": {
      "text/plain": [
       "{1, 2, 3}"
      ]
     },
     "execution_count": 92,
     "metadata": {},
     "output_type": "execute_result"
    }
   ],
   "source": [
    " a.union(b)"
   ]
  },
  {
   "cell_type": "code",
   "execution_count": 93,
   "id": "3c0ead83-e1ff-4400-a8b7-3e5de9a18bf0",
   "metadata": {},
   "outputs": [
    {
     "data": {
      "text/plain": [
       "{1}"
      ]
     },
     "execution_count": 93,
     "metadata": {},
     "output_type": "execute_result"
    }
   ],
   "source": [
    "a - b"
   ]
  },
  {
   "cell_type": "code",
   "execution_count": 95,
   "id": "73fcb3da-ccec-4447-9024-644655e76e2c",
   "metadata": {},
   "outputs": [
    {
     "data": {
      "text/plain": [
       "{1}"
      ]
     },
     "execution_count": 95,
     "metadata": {},
     "output_type": "execute_result"
    }
   ],
   "source": [
    "a.difference(b)"
   ]
  },
  {
   "cell_type": "code",
   "execution_count": 96,
   "id": "541cc430-13de-4cea-83cf-348fab4b78e9",
   "metadata": {},
   "outputs": [
    {
     "data": {
      "text/plain": [
       "{1, 3}"
      ]
     },
     "execution_count": 96,
     "metadata": {},
     "output_type": "execute_result"
    }
   ],
   "source": [
    "a ^ b"
   ]
  },
  {
   "cell_type": "code",
   "execution_count": 98,
   "id": "6854a37e-e8b6-4632-b00d-8eb145edbcb2",
   "metadata": {},
   "outputs": [
    {
     "data": {
      "text/plain": [
       "{1, 3}"
      ]
     },
     "execution_count": 98,
     "metadata": {},
     "output_type": "execute_result"
    }
   ],
   "source": [
    "# 使用 ^ 或者 symmetric_difference() 可以获得两个集合的异或集\n",
    "a.symmetric_difference(b)"
   ]
  },
  {
   "cell_type": "code",
   "execution_count": 99,
   "id": "799d534d-0903-4e26-8544-413d3ebf1add",
   "metadata": {},
   "outputs": [
    {
     "data": {
      "text/plain": [
       "False"
      ]
     },
     "execution_count": 99,
     "metadata": {},
     "output_type": "execute_result"
    }
   ],
   "source": [
    " a <= b"
   ]
  },
  {
   "cell_type": "code",
   "execution_count": 100,
   "id": "4b918076-1abf-4d88-9a13-39d5f0e7dc9c",
   "metadata": {},
   "outputs": [],
   "source": [
    "c={1}"
   ]
  },
  {
   "cell_type": "code",
   "execution_count": 102,
   "id": "a370deb9-66d1-4201-879c-6d7c70b18483",
   "metadata": {},
   "outputs": [
    {
     "data": {
      "text/plain": [
       "True"
      ]
     },
     "execution_count": 102,
     "metadata": {},
     "output_type": "execute_result"
    }
   ],
   "source": [
    "c <= a"
   ]
  },
  {
   "cell_type": "code",
   "execution_count": 104,
   "id": "fa667048-4c14-4853-b8ae-2e7c384cf89d",
   "metadata": {},
   "outputs": [
    {
     "data": {
      "text/plain": [
       "True"
      ]
     },
     "execution_count": 104,
     "metadata": {},
     "output_type": "execute_result"
    }
   ],
   "source": [
    "c.issubset(a) # b 是 a 的超集"
   ]
  },
  {
   "cell_type": "code",
   "execution_count": 105,
   "id": "0ca2e80f-1b98-4e5a-8956-7b2f638646b4",
   "metadata": {},
   "outputs": [
    {
     "data": {
      "text/plain": [
       "True"
      ]
     },
     "execution_count": 105,
     "metadata": {},
     "output_type": "execute_result"
    }
   ],
   "source": [
    " a.issuperset(c)"
   ]
  },
  {
   "cell_type": "markdown",
   "id": "cc8fa29c-e76f-49f1-a45c-06b273f14d5c",
   "metadata": {},
   "source": [
    "## 4. python外壳：代码结构"
   ]
  },
  {
   "cell_type": "code",
   "execution_count": 107,
   "id": "d4639d2e-9eb1-4869-b985-482fd9f9d0a5",
   "metadata": {},
   "outputs": [
    {
     "data": {
      "text/plain": [
       "'abcdefghijklmnopqrstuvwxyz'"
      ]
     },
     "execution_count": 107,
     "metadata": {},
     "output_type": "execute_result"
    }
   ],
   "source": [
    "alphabet = 'abcdefg' + \\\n",
    "  'hijklmnop' + \\\n",
    "  'qrstuv' + \\\n",
    "  'wxyz'\n",
    "\n",
    "alphabet"
   ]
  },
  {
   "cell_type": "code",
   "execution_count": 108,
   "id": "97c366a6-6dce-4588-89dd-42efcd207029",
   "metadata": {},
   "outputs": [
    {
     "ename": "SyntaxError",
     "evalue": "invalid syntax (1697476911.py, line 1)",
     "output_type": "error",
     "traceback": [
      "\u001b[0;36m  Cell \u001b[0;32mIn[108], line 1\u001b[0;36m\u001b[0m\n\u001b[0;31m    alphabet = 'abcdefg' +\u001b[0m\n\u001b[0m                            ^\u001b[0m\n\u001b[0;31mSyntaxError\u001b[0m\u001b[0;31m:\u001b[0m invalid syntax\n"
     ]
    }
   ],
   "source": [
    "alphabet = 'abcdefg' +  \n",
    "  'hijklmnop' +  \n",
    "  'qrstuv' +  \n",
    "  'wxyz'\n",
    "\n",
    "alphabet"
   ]
  },
  {
   "cell_type": "markdown",
   "id": "a21e57ea-4e92-4635-9f39-324949089cf0",
   "metadata": {},
   "source": [
    "#### brank and continue"
   ]
  },
  {
   "cell_type": "code",
   "execution_count": 110,
   "id": "b9aa13cd-fed2-4a01-8bd3-a0502c4aca64",
   "metadata": {},
   "outputs": [
    {
     "name": "stdin",
     "output_type": "stream",
     "text": [
      "Integer, please [q to quit]:  1\n"
     ]
    },
    {
     "name": "stdout",
     "output_type": "stream",
     "text": [
      "1 squared is 1\n"
     ]
    },
    {
     "name": "stdin",
     "output_type": "stream",
     "text": [
      "Integer, please [q to quit]:  2\n",
      "Integer, please [q to quit]:  q\n"
     ]
    }
   ],
   "source": [
    "while True:\n",
    "  value = input(\"Integer, please [q to quit]: \")\n",
    "  if value == 'q': # 停止循环\n",
    "      break\n",
    "  number = int(value)\n",
    "  if number % 2 == 0: # 判断偶数\n",
    "      continue\n",
    "  print(number, \"squared is\", number*number)"
   ]
  },
  {
   "cell_type": "code",
   "execution_count": 112,
   "id": "55facfb6-4f12-43a4-8266-0af7411fbee6",
   "metadata": {},
   "outputs": [
    {
     "name": "stdout",
     "output_type": "stream",
     "text": [
      "Monday : drink coffee| - eat banana - enjoy tiramisu\n",
      "Tuesday : drink tea - eat orange - enjoy ice cream\n",
      "Wednesday : drink beer - eat peach - enjoy pie\n"
     ]
    }
   ],
   "source": [
    "days = ['Monday', 'Tuesday', 'Wednesday']\n",
    "fruits = ['banana', 'orange', 'peach']\n",
    "drinks = ['coffee|', 'tea', 'beer']\n",
    "desserts = ['tiramisu', 'ice cream', 'pie', 'pudding']\n",
    "for day, fruit, drink, dessert in zip(days, fruits, drinks, desserts):\n",
    "    print(day, \": drink\", drink, \"- eat\", fruit, \"- enjoy\", dessert)"
   ]
  },
  {
   "cell_type": "code",
   "execution_count": 114,
   "id": "6cea1060-5242-40c5-9174-bf76706516ae",
   "metadata": {},
   "outputs": [
    {
     "data": {
      "text/plain": [
       "[('Monday', 'Lundi'), ('Tuesday', 'Mardi'), ('Wednesday', 'Mercredi')]"
      ]
     },
     "execution_count": 114,
     "metadata": {},
     "output_type": "execute_result"
    }
   ],
   "source": [
    "english = 'Monday', 'Tuesday', 'Wednesday'\n",
    "french = 'Lundi', 'Mardi', 'Mercredi'\n",
    "list( zip(english, french) )"
   ]
  },
  {
   "cell_type": "code",
   "execution_count": 115,
   "id": "3f7593a2-4ece-48c8-b586-8de41180aede",
   "metadata": {},
   "outputs": [
    {
     "data": {
      "text/plain": [
       "{'Monday': 'Lundi', 'Tuesday': 'Mardi', 'Wednesday': 'Mercredi'}"
      ]
     },
     "execution_count": 115,
     "metadata": {},
     "output_type": "execute_result"
    }
   ],
   "source": [
    "dict( zip(english, french) )"
   ]
  },
  {
   "cell_type": "markdown",
   "id": "aeea4da6-ee2e-4fba-a227-3d9edd7c8395",
   "metadata": {},
   "source": [
    "#### 4.6.1　列表推导式\n",
    "    [expression for item in iterable if condition]\n",
    "\n",
    "#### 4.6.2  字典推导式\n",
    "    { key_expression : value_expression for expression in iterable }"
   ]
  },
  {
   "cell_type": "code",
   "execution_count": 116,
   "id": "c3d7bd8c-66a2-4c1e-99af-a3f88d9f0581",
   "metadata": {},
   "outputs": [
    {
     "data": {
      "text/plain": [
       "[0, 1, 2, 3, 4, 5]"
      ]
     },
     "execution_count": 116,
     "metadata": {},
     "output_type": "execute_result"
    }
   ],
   "source": [
    "number_list = [number for number in range(6)]\n",
    "number_list"
   ]
  },
  {
   "cell_type": "code",
   "execution_count": 117,
   "id": "1967688f-07c2-42ea-8333-d1450532801d",
   "metadata": {},
   "outputs": [
    {
     "data": {
      "text/plain": [
       "[-2, -1, 0, 1, 2, 3]"
      ]
     },
     "execution_count": 117,
     "metadata": {},
     "output_type": "execute_result"
    }
   ],
   "source": [
    "number_list = [number-2 for number in range(6)]\n",
    "number_list"
   ]
  },
  {
   "cell_type": "code",
   "execution_count": 119,
   "id": "5d5325ab-9d5b-4a67-81d8-48b776f90451",
   "metadata": {},
   "outputs": [
    {
     "data": {
      "text/plain": [
       "{'l': 1, 'e': 2, 't': 2, 'r': 1, 's': 1}"
      ]
     },
     "execution_count": 119,
     "metadata": {},
     "output_type": "execute_result"
    }
   ],
   "source": [
    "word = 'letters'\n",
    "letter_count = {letter : word.count(letter) for letter in word}\n",
    "letter_count"
   ]
  },
  {
   "cell_type": "code",
   "execution_count": 120,
   "id": "45a8bc0d-e744-4bc5-8940-4d3d12a60114",
   "metadata": {},
   "outputs": [
    {
     "data": {
      "text/plain": [
       "{'l': 1, 'e': 2, 't': 2, 'r': 1, 's': 1}"
      ]
     },
     "execution_count": 120,
     "metadata": {},
     "output_type": "execute_result"
    }
   ],
   "source": [
    "letter_count = {'l': 1, 'e': 2, 't': 2, 'e': 2, 't': 2, 'r': 1, 's': 1}\n",
    "letter_count"
   ]
  },
  {
   "cell_type": "code",
   "execution_count": 121,
   "id": "754985e5-ded7-4245-9944-bac3b1dddfc8",
   "metadata": {},
   "outputs": [
    {
     "data": {
      "text/plain": [
       "{1, 4}"
      ]
     },
     "execution_count": 121,
     "metadata": {},
     "output_type": "execute_result"
    }
   ],
   "source": [
    "{number for number in range(1,6) if number % 3 == 1}"
   ]
  },
  {
   "cell_type": "markdown",
   "id": "f455aab7-aaec-4e5d-913a-c455f90a0dda",
   "metadata": {},
   "source": [
    "#### 4.7.1　位置参数\n"
   ]
  },
  {
   "cell_type": "code",
   "execution_count": 123,
   "id": "aa1b7882-ee4b-4a45-8739-65cde85f0f42",
   "metadata": {},
   "outputs": [
    {
     "data": {
      "text/plain": [
       "{'wine': 'chardonnay', 'entree': 'chicken', 'dessert': 'cake'}"
      ]
     },
     "execution_count": 123,
     "metadata": {},
     "output_type": "execute_result"
    }
   ],
   "source": [
    "def menu(wine, entree, dessert):\n",
    "  return {'wine': wine, 'entree': entree, 'dessert': dessert}\n",
    "menu('chardonnay', 'chicken', 'cake')"
   ]
  },
  {
   "cell_type": "markdown",
   "id": "147ade21-29e9-4129-bf06-8e66b86f9ade",
   "metadata": {},
   "source": [
    "#### 4.7.2　关键字参数"
   ]
  },
  {
   "cell_type": "code",
   "execution_count": 124,
   "id": "66fbcf9f-8f54-4c93-816f-59d25ec46677",
   "metadata": {},
   "outputs": [
    {
     "data": {
      "text/plain": [
       "{'wine': 'bordeaux', 'entree': 'beef', 'dessert': 'bagel'}"
      ]
     },
     "execution_count": 124,
     "metadata": {},
     "output_type": "execute_result"
    }
   ],
   "source": [
    "menu(entree='beef', dessert='bagel', wine='bordeaux')"
   ]
  },
  {
   "cell_type": "code",
   "execution_count": 125,
   "id": "cd8b4935-a622-4d19-83c1-db4b624e1096",
   "metadata": {},
   "outputs": [
    {
     "data": {
      "text/plain": [
       "{'wine': 'frontenac', 'entree': 'fish', 'dessert': 'flan'}"
      ]
     },
     "execution_count": 125,
     "metadata": {},
     "output_type": "execute_result"
    }
   ],
   "source": [
    "menu('frontenac', dessert='flan', entree='fish')"
   ]
  },
  {
   "cell_type": "markdown",
   "id": "7b038a6e-d62c-4a55-9334-229406ede6b5",
   "metadata": {},
   "source": [
    "#### 4.7.3　指定默认参数值"
   ]
  },
  {
   "cell_type": "code",
   "execution_count": 127,
   "id": "89b8a83e-e866-46c2-a885-cc174eecc29a",
   "metadata": {},
   "outputs": [
    {
     "data": {
      "text/plain": [
       "{'wine': 'chardonnay', 'entree': 'chicken', 'dessert': 'pudding'}"
      ]
     },
     "execution_count": 127,
     "metadata": {},
     "output_type": "execute_result"
    }
   ],
   "source": [
    "def menu(wine, entree, dessert='pudding'):\n",
    "  return {'wine': wine, 'entree': entree, 'dessert': dessert}\n",
    "\n",
    "menu('chardonnay', 'chicken')"
   ]
  },
  {
   "cell_type": "markdown",
   "id": "1ced1b86-7f99-474b-a1d0-dcf3814798d1",
   "metadata": {},
   "source": [
    "#### 4.7.4　使用*收集位置参数\n",
    "    当参数被用在函数内部时，星号将一组可变数量的位置参数集合成参数值的元组。"
   ]
  },
  {
   "cell_type": "code",
   "execution_count": 129,
   "id": "528fa478-5a6e-4a30-a97c-5fd3e8a40053",
   "metadata": {},
   "outputs": [
    {
     "name": "stdout",
     "output_type": "stream",
     "text": [
      "Positional argument tuple: (3, 2, 1, 'wait!', 'uh...')\n"
     ]
    }
   ],
   "source": [
    "def print_args(*args):\n",
    "  print('Positional argument tuple:', args)\n",
    "print_args(3, 2, 1, 'wait!', 'uh...')"
   ]
  },
  {
   "cell_type": "markdown",
   "id": "a5fe4932-ed9c-4c5f-b146-c8180eb9bed1",
   "metadata": {},
   "source": [
    "#### 4.7.5　使用**收集关键字参数\n",
    "    使用两个星号可以将参数收集到一个字典中，参数的名字是字典的键，对应参数的值是字典的值。"
   ]
  },
  {
   "cell_type": "code",
   "execution_count": 132,
   "id": "e45162ea-2482-4005-917d-65816abca381",
   "metadata": {},
   "outputs": [
    {
     "name": "stdout",
     "output_type": "stream",
     "text": [
      "Keyword arguments: {'wine': 'merlot', 'entree': 'mutton', 'dessert': 'macaroon'}\n"
     ]
    }
   ],
   "source": [
    "def print_kwargs(**kwargs):\n",
    "  print('Keyword arguments:', kwargs)\n",
    "print_kwargs(wine='merlot', entree='mutton', dessert='macaroon')"
   ]
  },
  {
   "cell_type": "markdown",
   "id": "4b32d9fd-d13c-4155-8abf-8e75980ac4a0",
   "metadata": {},
   "source": [
    "### 4.7.9　闭包\n",
    "    内部函数可以看作一个闭包。闭包是一个可以由另一个函数动态生成的函数，并且可以改变和存储函数外创建的变量的值。\r\n"
   ]
  },
  {
   "cell_type": "code",
   "execution_count": 137,
   "id": "f24c2a75-e4f1-40a2-aeb0-d6f5ed3d5a2e",
   "metadata": {},
   "outputs": [
    {
     "data": {
      "text/plain": [
       "function"
      ]
     },
     "execution_count": 137,
     "metadata": {},
     "output_type": "execute_result"
    }
   ],
   "source": [
    "def knights2(saying):\n",
    "  def inner2():\n",
    "      return \"We are the knights who say: '%s'\" % saying\n",
    "  return inner2\n",
    "\n",
    "a = knights2('hello')\n",
    "type(a)"
   ]
  },
  {
   "cell_type": "code",
   "execution_count": 139,
   "id": "5af2b28a-b373-4655-bbba-83ed224bca77",
   "metadata": {},
   "outputs": [
    {
     "data": {
      "text/plain": [
       "\"We are the knights who say: 'hello'\""
      ]
     },
     "execution_count": 139,
     "metadata": {},
     "output_type": "execute_result"
    }
   ],
   "source": [
    "a()"
   ]
  },
  {
   "cell_type": "markdown",
   "id": "6295eed1-6ff5-40d8-8918-fa27e1ed1ce9",
   "metadata": {},
   "source": [
    "### 4.7.10　匿名函数：lambda()函数"
   ]
  },
  {
   "cell_type": "code",
   "execution_count": 141,
   "id": "b11561e0-06b2-4ebf-b1c5-67d276d70ac7",
   "metadata": {},
   "outputs": [
    {
     "name": "stdout",
     "output_type": "stream",
     "text": [
      "Thud!\n",
      "Meow!\n",
      "Thud!\n",
      "Hiss!\n"
     ]
    }
   ],
   "source": [
    "def edit_story(words, func):\n",
    "  for word in words:\n",
    "      print(func(word))\n",
    "\n",
    "def enliven(word): # 让这些单词更有情感\n",
    "  return word.capitalize() + '!'\n",
    "stairs = ['thud', 'meow', 'thud', 'hiss']\n",
    "edit_story(stairs, enliven)"
   ]
  },
  {
   "cell_type": "code",
   "execution_count": 142,
   "id": "e07ba0ba-ca73-4afe-88b1-368d2f71b39d",
   "metadata": {},
   "outputs": [
    {
     "name": "stdout",
     "output_type": "stream",
     "text": [
      "Thud!\n",
      "Meow!\n",
      "Thud!\n",
      "Hiss!\n"
     ]
    }
   ],
   "source": [
    "edit_story(stairs, lambda word: word.capitalize() + '!')"
   ]
  },
  {
   "cell_type": "markdown",
   "id": "1fd1b907-549c-46f5-ad1f-c104261ba926",
   "metadata": {},
   "source": [
    "## 4.8　生成器\n",
    "    生成器是用来创建 Python 序列的一个对象。使用它可以迭代庞大的序列，且不需要在内存中创建和存储整个序列。"
   ]
  },
  {
   "cell_type": "code",
   "execution_count": 144,
   "id": "f0dc039f-8ca7-4262-9c4c-8050cd66e21a",
   "metadata": {},
   "outputs": [
    {
     "name": "stdout",
     "output_type": "stream",
     "text": [
      "1\n",
      "2\n",
      "3\n",
      "4\n"
     ]
    }
   ],
   "source": [
    "def my_ranger(first=0, last=10, step=1):\n",
    "    number = first\n",
    "    while number < last:\n",
    "        yield number\n",
    "        number += step\n",
    "for x in my_ranger(1, 5):\n",
    "    print(x)"
   ]
  },
  {
   "cell_type": "markdown",
   "id": "eb91ba59-e391-425d-9a0e-d4c1f36fa72b",
   "metadata": {},
   "source": [
    "## 4.9　装饰器\n",
    "    有时你需要在不改变源代码的情况下修改已经存在的函数。\n",
    "    装饰器实质上是一个函数。它把一个函数作为输入并且返回另外一个函数。\n",
    "    通常使用下面这些 Python 技巧：\r",
    "    \n",
    "• *args 和 **kwargs    \r\n",
    "• 闭    包\r\n",
    "• 作为参数的函数"
   ]
  },
  {
   "cell_type": "code",
   "execution_count": null,
   "id": "1effce94-cf77-41cf-9755-ef3ca1a53f38",
   "metadata": {},
   "outputs": [],
   "source": []
  },
  {
   "cell_type": "code",
   "execution_count": null,
   "id": "1e554c49-6a1b-4778-9067-aa04f3319d03",
   "metadata": {},
   "outputs": [],
   "source": []
  },
  {
   "cell_type": "code",
   "execution_count": null,
   "id": "a4548ad6-7d2b-45d1-9003-8b1e8733ffd6",
   "metadata": {},
   "outputs": [],
   "source": []
  },
  {
   "cell_type": "code",
   "execution_count": null,
   "id": "9793e90e-4d46-4eb7-a6ce-021d4753f6be",
   "metadata": {},
   "outputs": [],
   "source": []
  },
  {
   "cell_type": "code",
   "execution_count": null,
   "id": "f56657d3-6eb9-4643-aaa3-60af53b1bf8a",
   "metadata": {},
   "outputs": [],
   "source": []
  },
  {
   "cell_type": "code",
   "execution_count": null,
   "id": "afd7a45d-1b71-4254-8222-471d70994088",
   "metadata": {},
   "outputs": [],
   "source": []
  },
  {
   "cell_type": "code",
   "execution_count": null,
   "id": "42456d97-bd51-4e41-9ecf-6b541702b40f",
   "metadata": {},
   "outputs": [],
   "source": []
  },
  {
   "cell_type": "code",
   "execution_count": null,
   "id": "d92c2311-8919-4193-bf91-1e566fb353fe",
   "metadata": {},
   "outputs": [],
   "source": []
  },
  {
   "cell_type": "code",
   "execution_count": null,
   "id": "5dd7d9f0-eb19-4e41-b65d-da470952bd4c",
   "metadata": {},
   "outputs": [],
   "source": []
  },
  {
   "cell_type": "code",
   "execution_count": null,
   "id": "16ffcd0e-4dc5-46f6-b515-c913173369b6",
   "metadata": {},
   "outputs": [],
   "source": []
  },
  {
   "cell_type": "code",
   "execution_count": null,
   "id": "8d68ccbe-46fe-47e0-89b1-144f7dffb729",
   "metadata": {},
   "outputs": [],
   "source": []
  },
  {
   "cell_type": "code",
   "execution_count": null,
   "id": "060ee48f-41b3-47c1-a5bf-1d9a3f8aa90d",
   "metadata": {},
   "outputs": [],
   "source": []
  },
  {
   "cell_type": "code",
   "execution_count": null,
   "id": "f6685606-a8cf-4aff-a35c-fc18ea8776d9",
   "metadata": {},
   "outputs": [],
   "source": []
  },
  {
   "cell_type": "code",
   "execution_count": null,
   "id": "9dfc49e9-ee95-4ea7-9543-3d755cbe926c",
   "metadata": {},
   "outputs": [],
   "source": []
  },
  {
   "cell_type": "code",
   "execution_count": null,
   "id": "1ad21120-d75c-4529-872a-803f2fc40521",
   "metadata": {},
   "outputs": [],
   "source": []
  },
  {
   "cell_type": "code",
   "execution_count": null,
   "id": "03dd450b-3a4f-4f2f-8024-1115d43b55ab",
   "metadata": {},
   "outputs": [],
   "source": []
  }
 ],
 "metadata": {
  "kernelspec": {
   "display_name": "Python 3 (ipykernel)",
   "language": "python",
   "name": "python3"
  },
  "language_info": {
   "codemirror_mode": {
    "name": "ipython",
    "version": 3
   },
   "file_extension": ".py",
   "mimetype": "text/x-python",
   "name": "python",
   "nbconvert_exporter": "python",
   "pygments_lexer": "ipython3",
   "version": "3.11.5"
  }
 },
 "nbformat": 4,
 "nbformat_minor": 5
}
