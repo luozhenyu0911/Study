{
 "cells": [
  {
   "cell_type": "code",
   "execution_count": 23,
   "id": "b6724127-96b3-41dc-9b2d-d30e589f7892",
   "metadata": {},
   "outputs": [],
   "source": [
    "from time import gmtime\n",
    "from time import strftime\n",
    "import sys"
   ]
  },
  {
   "cell_type": "code",
   "execution_count": 24,
   "id": "2382e034-8c17-4476-91d2-62f7f3944613",
   "metadata": {},
   "outputs": [
    {
     "name": "stdout",
     "output_type": "stream",
     "text": [
      "PROGRAM START TIME: 02-02-2024 07:25:58\n",
      "PROGRAM START TIME: \n"
     ]
    },
    {
     "data": {
      "text/plain": [
       "21"
      ]
     },
     "execution_count": 24,
     "metadata": {},
     "output_type": "execute_result"
    }
   ],
   "source": [
    "time = strftime(\"%m-%d-%Y %H:%M:%S\", gmtime())\n",
    "sys.stdout.write(\"PROGRAM START TIME: \" + time + '\\n')\n",
    "sys.stdout.write(\"PROGRAM START TIME: \"  + '\\n')"
   ]
  },
  {
   "cell_type": "code",
   "execution_count": 25,
   "id": "268cef5b-9d61-4ba5-b371-98203d1aa1f9",
   "metadata": {},
   "outputs": [
    {
     "name": "stderr",
     "output_type": "stream",
     "text": [
      ">> ERROR: --report not specified."
     ]
    },
    {
     "data": {
      "text/plain": [
       "33"
      ]
     },
     "execution_count": 25,
     "metadata": {},
     "output_type": "execute_result"
    }
   ],
   "source": [
    "sys.stderr.write(\">> ERROR: --report not specified.\")"
   ]
  },
  {
   "cell_type": "code",
   "execution_count": 26,
   "id": "4c10703e-0770-4cc0-8716-d014bb7e285f",
   "metadata": {},
   "outputs": [
    {
     "name": "stdout",
     "output_type": "stream",
     "text": [
      " 14100648BFF2_6X.bracken\t  Untitled.ipynb\n",
      " 14100648BFF2_6X.breport\t  alpha_diversity.py\n",
      " 14100648BFF2_6X.k2\t\t  beta_diversity.py\n",
      " 14100648BFF2_6X.k2_report.txt\t 'extract_kraken_reads - 副本.py'\n",
      " 14100648BFF2_6X.krona.txt\t  extract_kraken_reads.py\n",
      " 14100648BFF2_6X.rm_pg.R1.fq.gz   kreport2krona.py\n",
      " 14100648BFF2_6X.rm_pg.R2.fq.gz\n"
     ]
    }
   ],
   "source": [
    "!ls"
   ]
  },
  {
   "cell_type": "code",
   "execution_count": 27,
   "id": "c769afa8-2be9-49e3-8f81-3e100769d3db",
   "metadata": {},
   "outputs": [
    {
     "name": "stdout",
     "output_type": "stream",
     "text": [
      "['28.02', '24439', '24439', 'U', '0', 'unclassified']\n",
      "0 0 U\n",
      "['71.98', '62796', '563', 'R', '1', 'root']\n",
      "1 0 R\n",
      "['51.21', '44669', '236', 'R1', '131567', '  cellular organisms']\n",
      "131567 1 R1\n",
      "['28.78', '25107', '261', 'D', '2', '    Bacteria']\n",
      "2 2 D\n",
      "['25.07', '21866', '52', 'P', '1224', '      Pseudomonadota']\n",
      "1224 3 P\n"
     ]
    }
   ],
   "source": [
    "with open('./14100648BFF2_6X.k2_report.txt', 'r') as r_file:\n",
    "    for index in range(5):\n",
    "        # for report_line in r_file:\n",
    "        report_line = next(r_file, 3)\n",
    "        l_vals = report_line.strip().split('\\t')\n",
    "        print(l_vals)\n",
    "        level_type = l_vals[-3]\n",
    "        taxid = int(l_vals[-2])\n",
    "        spaces = 0\n",
    "        for char in l_vals[-1]:\n",
    "            if char == ' ':\n",
    "                spaces += 1\n",
    "            else:\n",
    "                break\n",
    "        level_num = int(spaces/2)\n",
    "        print(taxid, level_num, level_type)"
   ]
  },
  {
   "cell_type": "markdown",
   "id": "3684afd5-20f2-4669-8c36-3a6a89feb472",
   "metadata": {},
   "source": [
    "#### 实用写法\n",
    "    \n",
    "    if(seq_file1[-3:] == '.gz'):\n",
    "        s_file1 = gzip.open(seq_file1,'rt')\n",
    "    else:\n",
    "        s_file1 = open(seq_file1,'rt')\n",
    "    first = s_file1.readline()\n",
    "    if len(first) == 0:\n",
    "        sys.stderr.write(\"ERROR: sequence file's first line is blank\\n\")\n",
    "        sys.exit(1)\n",
    "    if first[0] == \">\":\n",
    "        filetype = \"fasta\"\n",
    "    elif first[0] == \"@\":\n",
    "        filetype = \"fastq\"\n",
    "    else:\n",
    "        sys.stderr.write(\"ERROR: sequence file must be FASTA or FASTQ\\n\")\n",
    "        sys.exit(1)\n",
    "    s_file1.close()\n",
    "    if filetype != 'fastq' and args.fastq_out:\n",
    "        sys.stderr.write('ERROR: for FASTQ output, input file must be FASTQ\\n')\n",
    "        sys.exit(1)\n",
    "    ####ACTUALLY OPEN FILE\n",
    "    if(seq_file1[-3:] == '.gz'):\n",
    "        #Zipped Sequence Files\n",
    "        s_file1 = gzip.open(seq_file1,'rt')\n",
    "        if len(seq_file2) > 0:\n",
    "            s_file2 = gzip.open(seq_file2,'rt')\n",
    "    else:\n",
    "        s_file1 = open(seq_file1, 'r')\n",
    "        if len(seq_file2) > 0:\n",
    "            s_file2 = open(seq_file2, 'r')\n",
    "    #PROCESS INPUT FILE AND SAVE FASTA FILE\n",
    "    sys.stdout.write(\">> STEP 2: READING SEQUENCE FILES AND WRITING READS\\n\")\n",
    "    sys.stdout.write('\\t0 read IDs found (0 mill reads processed)')\n",
    "    sys.stdout.flush()"
   ]
  },
  {
   "cell_type": "code",
   "execution_count": 2,
   "id": "02221f0d-ce8a-4852-a01e-612528144a90",
   "metadata": {},
   "outputs": [],
   "source": [
    "from Bio import SeqIO\n",
    "from Bio.Seq import Seq\n",
    "from Bio.SeqRecord import SeqRecord"
   ]
  },
  {
   "cell_type": "code",
   "execution_count": null,
   "id": "da6fff49-64eb-4d37-bd1c-41ea3c189db5",
   "metadata": {},
   "outputs": [],
   "source": []
  },
  {
   "cell_type": "code",
   "execution_count": null,
   "id": "9904a756-8b73-47e3-a7aa-f3193eea7624",
   "metadata": {},
   "outputs": [],
   "source": []
  },
  {
   "cell_type": "code",
   "execution_count": null,
   "id": "080e9de3-785c-47b1-b0fc-b88b904a1376",
   "metadata": {},
   "outputs": [],
   "source": []
  },
  {
   "cell_type": "code",
   "execution_count": null,
   "id": "87e6b441-502b-412f-a38b-6eae6eef87b6",
   "metadata": {},
   "outputs": [],
   "source": []
  },
  {
   "cell_type": "code",
   "execution_count": null,
   "id": "114c6089-4efb-43c3-bda9-fe5652397cd1",
   "metadata": {},
   "outputs": [],
   "source": []
  },
  {
   "cell_type": "code",
   "execution_count": null,
   "id": "71643349-1869-433c-a4dd-089c495d8225",
   "metadata": {},
   "outputs": [],
   "source": []
  },
  {
   "cell_type": "code",
   "execution_count": null,
   "id": "313f4ddd-f89b-4b35-a8f7-8af104adba2c",
   "metadata": {},
   "outputs": [],
   "source": []
  },
  {
   "cell_type": "code",
   "execution_count": null,
   "id": "b5680e6b-adc6-4a1b-8acb-f5f82ff1e621",
   "metadata": {},
   "outputs": [],
   "source": []
  },
  {
   "cell_type": "code",
   "execution_count": null,
   "id": "5f3233b5-bae6-465d-9fcb-bd19e0de6f21",
   "metadata": {},
   "outputs": [],
   "source": []
  },
  {
   "cell_type": "code",
   "execution_count": null,
   "id": "e8a5e086-4069-4524-8872-4cf77edb5277",
   "metadata": {},
   "outputs": [],
   "source": []
  },
  {
   "cell_type": "code",
   "execution_count": null,
   "id": "ca989209-e627-4008-999c-b9bdc1e46a53",
   "metadata": {},
   "outputs": [],
   "source": []
  },
  {
   "cell_type": "code",
   "execution_count": null,
   "id": "12ad46c5-886f-4149-b901-eadad49d54b6",
   "metadata": {},
   "outputs": [],
   "source": []
  },
  {
   "cell_type": "code",
   "execution_count": null,
   "id": "a73918a5-1e4b-47a3-9ae2-6aa9388eb8b7",
   "metadata": {},
   "outputs": [],
   "source": []
  },
  {
   "cell_type": "code",
   "execution_count": null,
   "id": "e3faab4d-2c15-4541-af76-1f96fb378023",
   "metadata": {},
   "outputs": [],
   "source": []
  }
 ],
 "metadata": {
  "kernelspec": {
   "display_name": "Python 3 (ipykernel)",
   "language": "python",
   "name": "python3"
  },
  "language_info": {
   "codemirror_mode": {
    "name": "ipython",
    "version": 3
   },
   "file_extension": ".py",
   "mimetype": "text/x-python",
   "name": "python",
   "nbconvert_exporter": "python",
   "pygments_lexer": "ipython3",
   "version": "3.11.5"
  }
 },
 "nbformat": 4,
 "nbformat_minor": 5
}
